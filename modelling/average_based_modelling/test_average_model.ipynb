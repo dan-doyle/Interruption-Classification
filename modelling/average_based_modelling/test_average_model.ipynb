{
  "cells": [
    {
      "cell_type": "code",
      "execution_count": null,
      "metadata": {
        "id": "8aPWXEi-FTGl"
      },
      "outputs": [],
      "source": [
        "# when executed in a Google Colab setting, we must install the required libraries\n",
        "\n",
        "# !pip install torch\n",
        "# !pip install os\n",
        "# !pip install transformers\n",
        "# !pip install numpy\n",
        "# !pip install pandas"
      ]
    },
    {
      "cell_type": "code",
      "execution_count": null,
      "metadata": {
        "id": "cCoFa99OFjv1"
      },
      "outputs": [],
      "source": [
        "import os\n",
        "import torch\n",
        "from torch import nn\n",
        "import torch.nn.functional as F\n",
        "import torch.optim as optim\n",
        "from torch.utils.data import Dataset, DataLoader\n",
        "from torch.distributions.beta import Beta\n",
        "import numpy as np\n",
        "import pandas as pd\n",
        "import random\n",
        "import pickle\n",
        "import time\n",
        "import base64\n",
        "from sklearn.metrics import average_precision_score, recall_score, classification_report, PrecisionRecallDisplay\n",
        "import matplotlib.pyplot as plt\n",
        "import re"
      ]
    },
    {
      "cell_type": "code",
      "execution_count": null,
      "metadata": {
        "id": "UmiSqAaYHX47"
      },
      "outputs": [],
      "source": [
        "DATASET_FILEPATH = './drive/MyDrive/Thesis/'\n",
        "DATASET_SEED = 2\n",
        "SEED = 42\n",
        "torch.manual_seed(SEED)\n",
        "EMBEDDINGS = 'hubert_embeddings'\n",
        "MODEL_SIZE = 1\n",
        "EMB_SIZE = 'base' # 'base' 768 embeddings or 'large' 1024 embeddings\n",
        "SAVE_WEIGHTS_PATH = os.path.join(DATASET_FILEPATH, 'weights-and-graphs/average/model.pth')\n",
        "SAVE_GRID_SEARCH_WEIGHTS_PATH = os.path.join(DATASET_FILEPATH, 'weights-and-graphs/grid-search-avg/model.pth')\n",
        "\n",
        "test_csv_file = os.path.join(DATASET_FILEPATH, f'{EMB_SIZE}/{DATASET_SEED}/processed/test_dataset.csv')"
      ]
    },
    {
      "cell_type": "code",
      "execution_count": null,
      "metadata": {
        "colab": {
          "base_uri": "https://localhost:8080/"
        },
        "id": "4gv9Y8tRFba9",
        "outputId": "e1b5e440-5b3a-4a81-9e78-bf75cb2ea7a1"
      },
      "outputs": [
        {
          "name": "stdout",
          "output_type": "stream",
          "text": [
            "Device:  cpu\n"
          ]
        }
      ],
      "source": [
        "if torch.cuda.is_available():\n",
        "    device = torch.device('cuda')\n",
        "else:\n",
        "    device = torch.device(\"cpu\")\n",
        "print('Device: ', device)"
      ]
    },
    {
      "cell_type": "code",
      "execution_count": null,
      "metadata": {
        "id": "rlrdyKpSFtim"
      },
      "outputs": [],
      "source": [
        "def to_tensor(base64_str):\n",
        "    return pickle.loads(base64.b64decode(base64_str.encode()))\n",
        "\n",
        "selected_columns = ['audio_file_name', 'classification', EMBEDDINGS]\n",
        "test_df = pd.read_csv(test_csv_file, usecols=selected_columns, converters={EMBEDDINGS: to_tensor})"
      ]
    },
    {
      "cell_type": "code",
      "execution_count": null,
      "metadata": {
        "id": "gbsKgHA9F6r3"
      },
      "outputs": [],
      "source": [
        "def print_dataset_balance(df):\n",
        "    \"\"\"\n",
        "    Prints the balance of classifications in a given dataset.\n",
        "\n",
        "    :param df: DataFrame containing the data with a 'classification' column.\n",
        "    \"\"\"\n",
        "    classification_counts = df['classification'].value_counts().reset_index()\n",
        "    classification_counts.columns = ['classification', 'count']\n",
        "    total_rows = classification_counts['count'].sum()\n",
        "    classification_counts['percentage'] = (classification_counts['count'] / total_rows) * 100\n",
        "    classification_counts['percentage'] = classification_counts['percentage'].round(1)\n",
        "    print(classification_counts)"
      ]
    },
    {
      "cell_type": "code",
      "execution_count": null,
      "metadata": {
        "colab": {
          "base_uri": "https://localhost:8080/"
        },
        "id": "98LHryzyGLXR",
        "outputId": "cd6f8d49-65da-4e73-d09c-0fdc50043adf"
      },
      "outputs": [
        {
          "name": "stdout",
          "output_type": "stream",
          "text": [
            "   classification  count  percentage\n",
            "0               1    284        74.3\n",
            "1               0     98        25.7\n"
          ]
        }
      ],
      "source": [
        "print_dataset_balance(test_df)\n",
        "\n",
        "# Apply means across hubert embeddings\n",
        "test_df[EMBEDDINGS] = test_df[EMBEDDINGS].apply(lambda x: torch.mean(x, dim=0))"
      ]
    },
    {
      "cell_type": "code",
      "execution_count": null,
      "metadata": {
        "id": "ViRRjTHgHaNn"
      },
      "outputs": [],
      "source": [
        "class EmbeddingsDataset(Dataset):\n",
        "    def __init__(self, audio_embeddings, file_names, labels):\n",
        "        self.audio_embeddings = audio_embeddings\n",
        "        self.file_names = file_names\n",
        "        self.labels = labels\n",
        "\n",
        "    def __len__(self):\n",
        "        return len(self.audio_embeddings)\n",
        "\n",
        "    def __getitem__(self, idx):\n",
        "        audio_embedding = self.audio_embeddings[idx]\n",
        "        label = self.labels[idx]\n",
        "        file_name = self.file_names[idx]\n",
        "        return audio_embedding, file_name, label\n",
        "\n",
        "audio_test_data = test_df[EMBEDDINGS]\n",
        "test_labels = test_df['classification']\n",
        "test_file_names = test_df['audio_file_name']\n",
        "\n",
        "test_dataset = EmbeddingsDataset(audio_test_data, test_file_names, test_labels)"
      ]
    },
    {
      "cell_type": "code",
      "execution_count": null,
      "metadata": {
        "id": "_e3DUwfZHs6g"
      },
      "outputs": [],
      "source": [
        "BATCH_SIZE = 1 # to allow for analysis of results\n",
        "\n",
        "test_loader = DataLoader(test_dataset, batch_size=BATCH_SIZE, shuffle=True)"
      ]
    },
    {
      "cell_type": "code",
      "execution_count": null,
      "metadata": {
        "id": "spQu-NElSyul"
      },
      "outputs": [],
      "source": [
        "if MODEL_SIZE == 1:\n",
        "  hidden_layers = [256]\n",
        "elif MODEL_SIZE == 2:\n",
        "  hidden_layers = [512,256]\n",
        "elif MODEL_SIZE == 3:\n",
        "  hidden_layers = [768, 512, 256]\n",
        "elif MODEL_SIZE == 4:\n",
        "  hidden_layers = [1024, 768, 512, 256]"
      ]
    },
    {
      "cell_type": "code",
      "execution_count": null,
      "metadata": {
        "id": "aV9vbg9v4Qca"
      },
      "outputs": [],
      "source": [
        "class AudioModel(nn.Module):\n",
        "    def __init__(self, audio_embedding_dim=768, hidden_dims=hidden_layers, output_dim=1, dropout_rate=0):\n",
        "        super(AudioModel, self).__init__()\n",
        "\n",
        "        layers = []\n",
        "        prev_dim = audio_embedding_dim\n",
        "        for dim in hidden_dims:\n",
        "            layers.extend([\n",
        "                nn.Linear(prev_dim, dim),\n",
        "                nn.ReLU(),\n",
        "                nn.Dropout(dropout_rate)\n",
        "            ])\n",
        "            prev_dim = dim\n",
        "\n",
        "        self.model = nn.Sequential(*layers)\n",
        "\n",
        "        self.output_layer = nn.Linear(hidden_dims[-1], output_dim)\n",
        "\n",
        "    def forward(self, audio_embedding):\n",
        "        out = self.model(audio_embedding)\n",
        "        return self.output_layer(out)"
      ]
    },
    {
      "cell_type": "code",
      "execution_count": null,
      "metadata": {
        "colab": {
          "base_uri": "https://localhost:8080/"
        },
        "id": "9AEPuVPmH6mz",
        "outputId": "7399340c-43d5-4790-fe3b-6a740f7df73c"
      },
      "outputs": [
        {
          "name": "stdout",
          "output_type": "stream",
          "text": [
            "Loaded model in\n"
          ]
        },
        {
          "data": {
            "text/plain": [
              "AudioModel(\n",
              "  (model): Sequential(\n",
              "    (0): Linear(in_features=768, out_features=256, bias=True)\n",
              "    (1): ReLU()\n",
              "    (2): Dropout(p=0, inplace=False)\n",
              "  )\n",
              "  (output_layer): Linear(in_features=256, out_features=1, bias=True)\n",
              ")"
            ]
          },
          "execution_count": 158,
          "metadata": {},
          "output_type": "execute_result"
        }
      ],
      "source": [
        "GRID_SEARCH = False\n",
        "\n",
        "# Load the trained model\n",
        "model = AudioModel().to(device)\n",
        "if not GRID_SEARCH:\n",
        "  model.load_state_dict(torch.load(SAVE_WEIGHTS_PATH))\n",
        "else:\n",
        "  model.load_state_dict(torch.load(SAVE_GRID_SEARCH_WEIGHTS_PATH))\n",
        "print('Loaded model in')\n",
        "model.eval()  # set the model to evaluation mode"
      ]
    },
    {
      "cell_type": "code",
      "execution_count": null,
      "metadata": {
        "id": "qg4NQLTvH85U"
      },
      "outputs": [],
      "source": [
        "TRUE_THRESHOLD = 0.5\n",
        "\n",
        "y_name = []\n",
        "y_true = []\n",
        "y_score = []\n",
        "y_assigned = []\n",
        "latencies = []\n",
        "\n",
        "def test(model, iterator):\n",
        "    epoch_loss = 0\n",
        "    epoch_acc = 0\n",
        "    model.eval()\n",
        "\n",
        "    with torch.no_grad():\n",
        "        for audio_embeddings, file_names, labels in iterator:\n",
        "            start_time = time.time()\n",
        "            output = model(audio_embeddings).squeeze(1)\n",
        "            pred = torch.sigmoid(output)\n",
        "            rounded_pred = torch.where(pred >= TRUE_THRESHOLD, torch.tensor(1, device=pred.device), torch.tensor(0, device=pred.device))\n",
        "            end_time = time.time()\n",
        "\n",
        "            latency = end_time - start_time\n",
        "            latencies.append(latency)\n",
        "\n",
        "            y_true.append(float(labels[0]))\n",
        "            y_score.append(float(pred[0]))\n",
        "            y_assigned.append(float(rounded_pred[0]))\n",
        "            y_name.append(file_names[0])\n",
        "\n",
        "test(model, test_loader)"
      ]
    },
    {
      "cell_type": "code",
      "execution_count": null,
      "metadata": {
        "colab": {
          "base_uri": "https://localhost:8080/"
        },
        "id": "55FLq7v1ODUq",
        "outputId": "f4645c0e-7176-41db-cfd9-6a3d964c22fd"
      },
      "outputs": [
        {
          "name": "stdout",
          "output_type": "stream",
          "text": [
            "                  precision    recall  f1-score   support\n",
            "\n",
            "non-interruption       0.48      0.55      0.51        98\n",
            "    interruption       0.84      0.80      0.82       284\n",
            "\n",
            "        accuracy                           0.73       382\n",
            "       macro avg       0.66      0.67      0.67       382\n",
            "    weighted avg       0.75      0.73      0.74       382\n",
            "\n"
          ]
        }
      ],
      "source": [
        "print(classification_report(y_true, y_assigned, target_names=['non-interruption', 'interruption']))"
      ]
    },
    {
      "cell_type": "code",
      "execution_count": null,
      "metadata": {
        "colab": {
          "base_uri": "https://localhost:8080/",
          "height": 472
        },
        "id": "C6RGnZ9FS_Mw",
        "outputId": "d2c296e6-6073-4d54-f74e-6f68755ae948"
      },
      "outputs": [
        {
          "data": {
            "image/png": "[encoded data removed]",
            "text/plain": [
              "<Figure size 640x480 with 1 Axes>"
            ]
          },
          "metadata": {},
          "output_type": "display_data"
        }
      ],
      "source": [
        "display = PrecisionRecallDisplay.from_predictions(\n",
        "    y_true, y_score, name=\"LinearSVC\"\n",
        ")\n",
        "\n",
        "_ = display.ax_.set_title(\"2-class Precision-Recall curve\") # how can we add label names\n",
        "plt.show()"
      ]
    },
    {
      "cell_type": "code",
      "execution_count": null,
      "metadata": {
        "colab": {
          "base_uri": "https://localhost:8080/"
        },
        "id": "ziQjSlKiWBWO",
        "outputId": "6369b0e3-e96f-4bd1-e874-cb09cb9f33e4"
      },
      "outputs": [
        {
          "name": "stdout",
          "output_type": "stream",
          "text": [
            "Mean Latency: 0.233 milliseconds\n"
          ]
        }
      ],
      "source": [
        "mean_latency = (sum(latencies) / len(latencies)) * 1000\n",
        "print(f\"Mean Latency: {mean_latency:.3f} milliseconds\")"
      ]
    }
  ],
  "metadata": {
    "colab": {
      "provenance": []
    },
    "kernelspec": {
      "display_name": "Python 3",
      "name": "python3"
    },
    "language_info": {
      "name": "python"
    }
  },
  "nbformat": 4,
  "nbformat_minor": 0
}
