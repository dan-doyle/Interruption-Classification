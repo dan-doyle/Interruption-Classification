{
  "cells": [
    {
      "cell_type": "code",
      "execution_count": null,
      "metadata": {
        "id": "8aPWXEi-FTGl"
      },
      "outputs": [],
      "source": [
        "# when executed in a Google Colab setting, we must install the required libraries\n",
        "\n",
        "# !pip install torch\n",
        "# !pip install os\n",
        "# !pip install transformers\n",
        "# !pip install numpy\n",
        "# !pip install pandas"
      ]
    },
    {
      "cell_type": "code",
      "execution_count": null,
      "metadata": {
        "id": "cCoFa99OFjv1"
      },
      "outputs": [],
      "source": [
        "import os\n",
        "import torch\n",
        "from torch import nn\n",
        "import torch.nn.functional as F\n",
        "import torch.optim as optim\n",
        "from torch.utils.data import Dataset, DataLoader\n",
        "from torch.distributions.beta import Beta\n",
        "from torch.nn.utils import weight_norm\n",
        "import numpy as np\n",
        "import pandas as pd\n",
        "import random\n",
        "import pickle\n",
        "import time\n",
        "import base64\n",
        "from sklearn.metrics import average_precision_score, recall_score, classification_report, PrecisionRecallDisplay\n",
        "import matplotlib.pyplot as plt\n",
        "import re"
      ]
    },
    {
      "cell_type": "code",
      "execution_count": null,
      "metadata": {
        "id": "UmiSqAaYHX47"
      },
      "outputs": [],
      "source": [
        "#### Edit variables and filepaths here ####\n",
        "DATASET_FILEPATH = './drive/MyDrive/Thesis/'\n",
        "EMBEDDINGS = 'hubert_embeddings'\n",
        "DATASET_SEED = 2\n",
        "SEED = 42\n",
        "torch.manual_seed(SEED)\n",
        "SMALL_CAPACITY = False\n",
        "EMB_SIZE = 'base' # 'base' 768 embeddings or 'large' 1024 embeddings\n",
        "SAVE_WEIGHTS_PATH = os.path.join(DATASET_FILEPATH, 'weights-and-graphs/tcn-base/model.pth')\n",
        "SAVE_GRID_SEARCH_WEIGHTS_PATH = os.path.join(DATASET_FILEPATH, 'weights-and-graphs/grid-search-tcn/model.pth')\n",
        "\n",
        "test_csv_file = os.path.join(DATASET_FILEPATH, f'{EMB_SIZE}/{DATASET_SEED}/processed/test_dataset.csv')"
      ]
    },
    {
      "cell_type": "code",
      "execution_count": null,
      "metadata": {
        "colab": {
          "base_uri": "https://localhost:8080/"
        },
        "id": "4gv9Y8tRFba9",
        "outputId": "36e004de-b559-449b-cd08-5b6e50a14496"
      },
      "outputs": [
        {
          "name": "stdout",
          "output_type": "stream",
          "text": [
            "Device:  cpu\n"
          ]
        }
      ],
      "source": [
        "if torch.cuda.is_available():\n",
        "    device = torch.device('cuda')\n",
        "else:\n",
        "    device = torch.device(\"cpu\")\n",
        "print('Device: ', device)"
      ]
    },
    {
      "cell_type": "code",
      "execution_count": null,
      "metadata": {
        "id": "rlrdyKpSFtim"
      },
      "outputs": [],
      "source": [
        "def to_tensor(base64_str):\n",
        "    return pickle.loads(base64.b64decode(base64_str.encode()))\n",
        "\n",
        "selected_columns = ['audio_file_name', 'classification', EMBEDDINGS]\n",
        "test_df = pd.read_csv(test_csv_file, usecols=selected_columns, converters={EMBEDDINGS: to_tensor})"
      ]
    },
    {
      "cell_type": "code",
      "execution_count": null,
      "metadata": {
        "id": "gbsKgHA9F6r3"
      },
      "outputs": [],
      "source": [
        "def print_dataset_balance(df):\n",
        "    \"\"\"\n",
        "    Prints the balance of classifications in a given dataset.\n",
        "\n",
        "    :param df: DataFrame containing the data with a 'classification' column.\n",
        "    \"\"\"\n",
        "    classification_counts = df['classification'].value_counts().reset_index()\n",
        "    classification_counts.columns = ['classification', 'count']\n",
        "    total_rows = classification_counts['count'].sum()\n",
        "    classification_counts['percentage'] = (classification_counts['count'] / total_rows) * 100\n",
        "    classification_counts['percentage'] = classification_counts['percentage'].round(1)\n",
        "    print(classification_counts)"
      ]
    },
    {
      "cell_type": "code",
      "execution_count": null,
      "metadata": {
        "colab": {
          "base_uri": "https://localhost:8080/"
        },
        "id": "98LHryzyGLXR",
        "outputId": "f7c17528-8d0e-498c-d1d3-7d51b6f2756f"
      },
      "outputs": [
        {
          "name": "stdout",
          "output_type": "stream",
          "text": [
            "   classification  count  percentage\n",
            "0               1    284        74.3\n",
            "1               0     98        25.7\n"
          ]
        }
      ],
      "source": [
        "print_dataset_balance(test_df)"
      ]
    },
    {
      "cell_type": "code",
      "execution_count": null,
      "metadata": {
        "id": "ViRRjTHgHaNn"
      },
      "outputs": [],
      "source": [
        "class AudioEmbeddingsDataset(Dataset):\n",
        "    def __init__(self, embeddings, file_names, labels):\n",
        "        self.embeddings = embeddings\n",
        "        self.file_names = file_names\n",
        "        self.labels = labels\n",
        "\n",
        "    def __len__(self):\n",
        "        return len(self.embeddings)\n",
        "\n",
        "    def __getitem__(self, idx):\n",
        "        embedding = self.embeddings[idx]\n",
        "        label = self.labels[idx]\n",
        "        file_name = self.file_names[idx]\n",
        "        return label, file_name, embedding\n",
        "\n",
        "# Creating DataLoader with custom collate function\n",
        "FIXED_LENGTH = 250 # fixed sequence length that the model expects as an input\n",
        "\n",
        "def collate_fn(batch):\n",
        "    \"\"\"\n",
        "    Function to be passed to the DataLoader class which processes a batch of data points before being passed to the model in training.\n",
        "    The TCN must process process data points of length 250, we adjust each data point in the batch to fit this requirement.\n",
        "\n",
        "    :param batch: array of data points in the dataset.\n",
        "    \"\"\"\n",
        "\n",
        "    labels, file_names, embeddings = zip(*batch)\n",
        "    labels = torch.tensor(labels, dtype=torch.float32)\n",
        "\n",
        "    # Truncate or zero-pad all sequences to a fixed length\n",
        "    embeddings = [emb.squeeze(0) for emb in embeddings]\n",
        "    embeddings = [emb[:FIXED_LENGTH, :] if emb.shape[0] > FIXED_LENGTH else torch.cat([emb, torch.zeros((FIXED_LENGTH - emb.shape[0], emb.shape[1]))]) for emb in embeddings]\n",
        "\n",
        "    embeddings = torch.stack(embeddings)\n",
        "    return embeddings, file_names, labels\n",
        "\n",
        "audio_test_data = test_df[EMBEDDINGS]\n",
        "test_labels = test_df['classification']\n",
        "test_file_names = test_df['audio_file_name']\n",
        "\n",
        "test_dataset = AudioEmbeddingsDataset(audio_test_data, test_file_names, test_labels)"
      ]
    },
    {
      "cell_type": "code",
      "execution_count": null,
      "metadata": {
        "id": "_e3DUwfZHs6g"
      },
      "outputs": [],
      "source": [
        "BATCH_SIZE = 1 # to allow for analysis of results\n",
        "\n",
        "test_loader = DataLoader(test_dataset, batch_size=BATCH_SIZE, shuffle=True, collate_fn=collate_fn)"
      ]
    },
    {
      "cell_type": "code",
      "execution_count": null,
      "metadata": {
        "id": "spQu-NElSyul"
      },
      "outputs": [],
      "source": [
        "class NormReLUChannelNormalization(nn.Module):\n",
        "    def __init__(self, epsilon=1e-5):\n",
        "        super(NormReLUChannelNormalization, self).__init__()\n",
        "        self.epsilon = epsilon\n",
        "        self.relu = nn.ReLU()\n",
        "\n",
        "    def forward(self, x):\n",
        "        x = self.relu(x)\n",
        "        max_values, _ = torch.max(torch.abs(x), dim=2, keepdim=True)\n",
        "        max_values += self.epsilon\n",
        "        out = x / max_values\n",
        "        return out\n",
        "\n",
        "class WaveNetActivation(nn.Module):\n",
        "    def __init__(self):\n",
        "        super(WaveNetActivation, self).__init__()\n",
        "\n",
        "    def forward(self, x):\n",
        "        tanh_out = torch.tanh(x)\n",
        "        sigm_out = torch.sigmoid(x)\n",
        "        return tanh_out * sigm_out\n",
        "\n",
        "class Chomp1d(nn.Module):\n",
        "    def __init__(self, chomp_size):\n",
        "        super(Chomp1d, self).__init__()\n",
        "        self.chomp_size = chomp_size\n",
        "\n",
        "    def forward(self, x):\n",
        "        return x[:, :, :-self.chomp_size].contiguous()\n",
        "\n",
        "class ResidualBlock(nn.Module):\n",
        "    def __init__(self, in_channels, out_channels, dilation, kernel_size, activation, dropout=0):\n",
        "        super(ResidualBlock, self).__init__()\n",
        "        chomp_size = (kernel_size-1) * dilation\n",
        "        padding = (kernel_size-1) * dilation\n",
        "        self.conv1 = weight_norm(nn.Conv1d(in_channels, out_channels, kernel_size,\n",
        "                                           stride=1, padding=padding, dilation=dilation))\n",
        "        self.chomp1 = Chomp1d(chomp_size)\n",
        "        self.dropout = nn.Dropout(dropout)\n",
        "        self.activation = activation\n",
        "        self.conv2 = weight_norm(nn.Conv1d(out_channels, out_channels, kernel_size,\n",
        "                                           stride=1, padding=padding, dilation=dilation))\n",
        "        self.chomp2 = Chomp1d(chomp_size)\n",
        "        self.net = nn.Sequential(self.conv1, self.chomp1, self.activation, self.dropout,\n",
        "                                 self.conv2, self.chomp2, self.activation, self.dropout)\n",
        "        self.downsample = nn.Conv1d(in_channels, out_channels, 1) if in_channels != out_channels else None\n",
        "        self.relu = nn.ReLU()\n",
        "        self.init_weights()\n",
        "\n",
        "    def init_weights(self):\n",
        "        self.conv1.weight.data.normal_(0, 0.01)\n",
        "        self.conv2.weight.data.normal_(0, 0.01)\n",
        "        if self.downsample is not None:\n",
        "            self.downsample.weight.data.normal_(0, 0.01)\n",
        "\n",
        "    def forward(self, x):\n",
        "        out = self.net(x)\n",
        "        res = x if self.downsample is None else self.downsample(x)\n",
        "        return self.relu(out + res)\n",
        "\n",
        "class TemporalConvNet(nn.Module):\n",
        "    def __init__(self, in_channels, out_channels, kernel_size=2, dropout=0):\n",
        "        super(TemporalConvNet, self).__init__()\n",
        "        layers = []\n",
        "        num_levels = len(out_channels)\n",
        "        for i in range(num_levels):\n",
        "            dilation_size = 2 ** i\n",
        "            in_channels = in_channels if i == 0 else out_channels[i-1]\n",
        "            activation = NormReLUChannelNormalization() if i%2 == 0 else WaveNetActivation()\n",
        "            layers += [ResidualBlock(in_channels, out_channels[i], dilation=dilation_size,\n",
        "                                     kernel_size=kernel_size, activation=activation, dropout=dropout)]\n",
        "\n",
        "        self.network = nn.Sequential(*layers)\n",
        "\n",
        "    def forward(self, x):\n",
        "        return self.network(x)\n",
        "\n",
        "class TCN(nn.Module):\n",
        "    def __init__(self, in_channels, out_channels, kernel_size=2, dropout=0):\n",
        "        super(TCN, self).__init__()\n",
        "        self.tcn = TemporalConvNet(in_channels, out_channels, kernel_size=kernel_size, dropout=dropout)\n",
        "        self.linear = nn.Linear(out_channels[-1], 1)\n",
        "\n",
        "    def forward(self, x):\n",
        "        x = x.transpose(1, 2)\n",
        "        y1 = self.tcn(x)\n",
        "        o = self.linear(y1[:, :, -1])\n",
        "        return o\n"
      ]
    },
    {
      "cell_type": "code",
      "execution_count": null,
      "metadata": {
        "colab": {
          "base_uri": "https://localhost:8080/"
        },
        "id": "9AEPuVPmH6mz",
        "outputId": "c6687b9e-bb00-4557-9890-0e28bc31f181"
      },
      "outputs": [
        {
          "name": "stdout",
          "output_type": "stream",
          "text": [
            "Loaded model in\n"
          ]
        },
        {
          "data": {
            "text/plain": [
              "TCN(\n",
              "  (tcn): TemporalConvNet(\n",
              "    (network): Sequential(\n",
              "      (0): ResidualBlock(\n",
              "        (conv1): Conv1d(768, 1024, kernel_size=(2,), stride=(1,), padding=(1,))\n",
              "        (chomp1): Chomp1d()\n",
              "        (dropout): Dropout(p=0, inplace=False)\n",
              "        (activation): NormReLUChannelNormalization(\n",
              "          (relu): ReLU()\n",
              "        )\n",
              "        (conv2): Conv1d(1024, 1024, kernel_size=(2,), stride=(1,), padding=(1,))\n",
              "        (chomp2): Chomp1d()\n",
              "        (net): Sequential(\n",
              "          (0): Conv1d(768, 1024, kernel_size=(2,), stride=(1,), padding=(1,))\n",
              "          (1): Chomp1d()\n",
              "          (2): NormReLUChannelNormalization(\n",
              "            (relu): ReLU()\n",
              "          )\n",
              "          (3): Dropout(p=0, inplace=False)\n",
              "          (4): Conv1d(1024, 1024, kernel_size=(2,), stride=(1,), padding=(1,))\n",
              "          (5): Chomp1d()\n",
              "          (6): NormReLUChannelNormalization(\n",
              "            (relu): ReLU()\n",
              "          )\n",
              "          (7): Dropout(p=0, inplace=False)\n",
              "        )\n",
              "        (downsample): Conv1d(768, 1024, kernel_size=(1,), stride=(1,))\n",
              "        (relu): ReLU()\n",
              "      )\n",
              "      (1): ResidualBlock(\n",
              "        (conv1): Conv1d(1024, 768, kernel_size=(2,), stride=(1,), padding=(2,), dilation=(2,))\n",
              "        (chomp1): Chomp1d()\n",
              "        (dropout): Dropout(p=0, inplace=False)\n",
              "        (activation): WaveNetActivation()\n",
              "        (conv2): Conv1d(768, 768, kernel_size=(2,), stride=(1,), padding=(2,), dilation=(2,))\n",
              "        (chomp2): Chomp1d()\n",
              "        (net): Sequential(\n",
              "          (0): Conv1d(1024, 768, kernel_size=(2,), stride=(1,), padding=(2,), dilation=(2,))\n",
              "          (1): Chomp1d()\n",
              "          (2): WaveNetActivation()\n",
              "          (3): Dropout(p=0, inplace=False)\n",
              "          (4): Conv1d(768, 768, kernel_size=(2,), stride=(1,), padding=(2,), dilation=(2,))\n",
              "          (5): Chomp1d()\n",
              "          (6): WaveNetActivation()\n",
              "          (7): Dropout(p=0, inplace=False)\n",
              "        )\n",
              "        (downsample): Conv1d(1024, 768, kernel_size=(1,), stride=(1,))\n",
              "        (relu): ReLU()\n",
              "      )\n",
              "      (2): ResidualBlock(\n",
              "        (conv1): Conv1d(768, 384, kernel_size=(2,), stride=(1,), padding=(4,), dilation=(4,))\n",
              "        (chomp1): Chomp1d()\n",
              "        (dropout): Dropout(p=0, inplace=False)\n",
              "        (activation): NormReLUChannelNormalization(\n",
              "          (relu): ReLU()\n",
              "        )\n",
              "        (conv2): Conv1d(384, 384, kernel_size=(2,), stride=(1,), padding=(4,), dilation=(4,))\n",
              "        (chomp2): Chomp1d()\n",
              "        (net): Sequential(\n",
              "          (0): Conv1d(768, 384, kernel_size=(2,), stride=(1,), padding=(4,), dilation=(4,))\n",
              "          (1): Chomp1d()\n",
              "          (2): NormReLUChannelNormalization(\n",
              "            (relu): ReLU()\n",
              "          )\n",
              "          (3): Dropout(p=0, inplace=False)\n",
              "          (4): Conv1d(384, 384, kernel_size=(2,), stride=(1,), padding=(4,), dilation=(4,))\n",
              "          (5): Chomp1d()\n",
              "          (6): NormReLUChannelNormalization(\n",
              "            (relu): ReLU()\n",
              "          )\n",
              "          (7): Dropout(p=0, inplace=False)\n",
              "        )\n",
              "        (downsample): Conv1d(768, 384, kernel_size=(1,), stride=(1,))\n",
              "        (relu): ReLU()\n",
              "      )\n",
              "    )\n",
              "  )\n",
              "  (linear): Linear(in_features=384, out_features=1, bias=True)\n",
              ")"
            ]
          },
          "execution_count": 326,
          "metadata": {},
          "output_type": "execute_result"
        }
      ],
      "source": [
        "GRID_SEARCH = False\n",
        "model = TCN(768, [1024, 768, 384], kernel_size=2, dropout=0).to(device) # optimal\n",
        "\n",
        "if not GRID_SEARCH:\n",
        "  model.load_state_dict(torch.load(SAVE_WEIGHTS_PATH))\n",
        "else:\n",
        "  model.load_state_dict(torch.load(SAVE_GRID_SEARCH_WEIGHTS_PATH, map_location=torch.device('cpu')))\n",
        "print('Loaded model in')\n",
        "model.eval()  # set the model to evaluation mode"
      ]
    },
    {
      "cell_type": "code",
      "execution_count": null,
      "metadata": {
        "id": "qg4NQLTvH85U"
      },
      "outputs": [],
      "source": [
        "TRUE_THRESHOLD = 0.5\n",
        "\n",
        "y_name = []\n",
        "y_true = []\n",
        "y_score = []\n",
        "y_assigned = []\n",
        "latencies = []\n",
        "\n",
        "def test(model, iterator):\n",
        "    epoch_loss = 0\n",
        "    epoch_acc = 0\n",
        "    model.eval()\n",
        "\n",
        "    with torch.no_grad():\n",
        "        for audio_embeddings, file_names, labels in iterator:\n",
        "            start_time = time.time()\n",
        "            output = model(audio_embeddings).squeeze(1)\n",
        "            pred = torch.sigmoid(output)\n",
        "            rounded_pred = torch.where(pred >= TRUE_THRESHOLD, torch.tensor(1, device=pred.device), torch.tensor(0, device=pred.device))\n",
        "            end_time = time.time()\n",
        "\n",
        "            latency = end_time - start_time\n",
        "            latencies.append(latency)\n",
        "\n",
        "            y_true.append(float(labels[0]))\n",
        "            y_score.append(float(pred[0]))\n",
        "            y_assigned.append(float(rounded_pred[0]))\n",
        "            y_name.append(file_names[0])\n",
        "\n",
        "test(model, test_loader)"
      ]
    },
    {
      "cell_type": "code",
      "execution_count": null,
      "metadata": {
        "colab": {
          "base_uri": "https://localhost:8080/"
        },
        "id": "55FLq7v1ODUq",
        "outputId": "0b71b4e5-10d0-4ff4-83fd-5673bdf934fe"
      },
      "outputs": [
        {
          "name": "stdout",
          "output_type": "stream",
          "text": [
            "                  precision    recall  f1-score   support\n",
            "\n",
            "non-interruption       0.49      0.63      0.55        98\n",
            "    interruption       0.86      0.77      0.81       284\n",
            "\n",
            "        accuracy                           0.74       382\n",
            "       macro avg       0.67      0.70      0.68       382\n",
            "    weighted avg       0.76      0.74      0.75       382\n",
            "\n"
          ]
        }
      ],
      "source": [
        "print(classification_report(y_true, y_assigned, target_names=['non-interruption', 'interruption']))"
      ]
    },
    {
      "cell_type": "code",
      "execution_count": null,
      "metadata": {
        "colab": {
          "base_uri": "https://localhost:8080/",
          "height": 472
        },
        "id": "C6RGnZ9FS_Mw",
        "outputId": "76ee689b-8efa-4aca-da0f-fe390f0d56e7"
      },
      "outputs": [
        {
          "data": {
            "image/png": "[encoded data removed]",
            "text/plain": [
              "<Figure size 640x480 with 1 Axes>"
            ]
          },
          "metadata": {},
          "output_type": "display_data"
        }
      ],
      "source": [
        "display = PrecisionRecallDisplay.from_predictions(\n",
        "    y_true, y_score, name=\"LinearSVC\"\n",
        ")\n",
        "\n",
        "_ = display.ax_.set_title(\"2-class Precision-Recall curve\") # how can we add label names\n",
        "plt.show()"
      ]
    },
    {
      "cell_type": "code",
      "execution_count": null,
      "metadata": {
        "colab": {
          "base_uri": "https://localhost:8080/"
        },
        "id": "GVt25EjoV9VE",
        "outputId": "9d0d0359-e16b-4e2c-b26f-e219848c81a4"
      },
      "outputs": [
        {
          "name": "stdout",
          "output_type": "stream",
          "text": [
            "Mean Latency: 111.140 milliseconds\n"
          ]
        }
      ],
      "source": [
        "mean_latency = (sum(latencies) / len(latencies)) * 1000\n",
        "print(f\"Mean Latency: {mean_latency:.3f} milliseconds\")"
      ]
    }
  ],
  "metadata": {
    "colab": {
      "provenance": []
    },
    "kernelspec": {
      "display_name": "Python 3",
      "name": "python3"
    },
    "language_info": {
      "name": "python"
    }
  },
  "nbformat": 4,
  "nbformat_minor": 0
}
