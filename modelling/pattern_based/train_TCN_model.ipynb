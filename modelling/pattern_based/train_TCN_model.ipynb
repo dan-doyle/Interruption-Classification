{
  "cells": [
    {
      "cell_type": "code",
      "execution_count": null,
      "metadata": {
        "id": "qCV-0RKtE-Ea"
      },
      "outputs": [],
      "source": [
        "# when executed in a Google Colab setting, we must install the required libraries\n",
        "\n",
        "# !pip install torch\n",
        "# !pip install os\n",
        "# !pip install transformers\n",
        "# !pip install numpy\n",
        "# !pip install pandas"
      ]
    },
    {
      "cell_type": "code",
      "execution_count": null,
      "metadata": {
        "id": "FfWnrSCtFDZZ"
      },
      "outputs": [],
      "source": [
        "import pandas as pd\n",
        "import torch\n",
        "import torch.nn as nn\n",
        "import torch.nn.functional as F\n",
        "from torch.nn.utils import weight_norm\n",
        "from torch.utils.data import Dataset, DataLoader\n",
        "import pickle\n",
        "import base64\n",
        "import matplotlib.pyplot as plt\n",
        "import re\n",
        "from sklearn.metrics import f1_score\n",
        "import numpy as np"
      ]
    },
    {
      "cell_type": "code",
      "execution_count": null,
      "metadata": {
        "colab": {
          "base_uri": "https://localhost:8080/"
        },
        "id": "rEY-y5mGO0ny",
        "outputId": "73896ba8-a7bc-43e8-c80c-accc87ad58bf"
      },
      "outputs": [
        {
          "data": {
            "text/plain": [
              "<torch._C.Generator at 0x7e4770f1a430>"
            ]
          },
          "execution_count": 141,
          "metadata": {},
          "output_type": "execute_result"
        }
      ],
      "source": [
        "#### Edit variables and filepaths here ####\n",
        "DATASET_FILEPATH = './drive/MyDrive/Thesis/'\n",
        "DATASET_SEED = 2\n",
        "EMBEDDINGS = 'hubert_embeddings'\n",
        "SAVE_WEIGHTS_PATH = os.path.join(DATASET_FILEPATH, 'weights-and-graphs/tcn-base/model.pth')\n",
        "SAVE_CONVNET_WEIGHTS_PATH = os.path.join(DATASET_FILEPATH, 'weights-and-graphs/tcn-base/temporalconvnet_weights.pth')\n",
        "SAVE_PLOT_IMG_PATH = os.path.join(DATASET_FILEPATH, 'weights-and-graphs/tcn-base/loss.png')\n",
        "SEED = 46\n",
        "torch.manual_seed(SEED)"
      ]
    },
    {
      "cell_type": "code",
      "execution_count": null,
      "metadata": {
        "id": "uO5vCRrtqtbt"
      },
      "outputs": [],
      "source": [
        "train_csv_file = os.path.join(DATASET_FILEPATH, f'base/{DATASET_SEED}/processed/train_dataset.csv')\n",
        "train_csv_file = os.path.join(DATASET_FILEPATH, f'base/{DATASET_SEED}/processed/validation_dataset.csv')\n",
        "aug_train_csv_file = os.path.join(DATASET_FILEPATH, '/base/aug-dataset/processed/train_dataset.csv')"
      ]
    },
    {
      "cell_type": "code",
      "execution_count": null,
      "metadata": {
        "id": "7m72a2hqsKuL"
      },
      "outputs": [],
      "source": [
        "if torch.cuda.is_available():\n",
        "    device = torch.device('cuda')\n",
        "else:\n",
        "    device = torch.device(\"cpu\")\n",
        "print('Device: ', device)"
      ]
    },
    {
      "cell_type": "code",
      "execution_count": null,
      "metadata": {
        "id": "214eGD98sPEd"
      },
      "outputs": [],
      "source": [
        "def to_tensor(base64_str):\n",
        "    return pickle.loads(base64.b64decode(base64_str.encode()))\n",
        "\n",
        "selected_columns = ['audio_file_name', 'classification', EMBEDDINGS]\n",
        "\n",
        "train_df = pd.read_csv(train_csv_file, usecols=selected_columns, converters={EMBEDDINGS: to_tensor})\n",
        "validation_df = pd.read_csv(validation_csv_file, usecols=selected_columns, converters={EMBEDDINGS: to_tensor})"
      ]
    },
    {
      "cell_type": "code",
      "execution_count": null,
      "metadata": {
        "colab": {
          "base_uri": "https://localhost:8080/"
        },
        "id": "jQlp2W9JFFZ-",
        "outputId": "d1e876b0-ce05-4186-8ecc-488337879534"
      },
      "outputs": [
        {
          "name": "stdout",
          "output_type": "stream",
          "text": [
            "Device:  cuda\n"
          ]
        }
      ],
      "source": [
        "def process_training_set(train_df, oversample_minority=False, undersample_majority=False):\n",
        "  \"\"\"\n",
        "  Re-sample the training dataset, with options to oversample minority class and undersample majority class based on audio lengths.\n",
        "\n",
        "  :param train_df: DataFrame containing the training data with columns ['classification', 'audio_file_name'] among others.\n",
        "  :param oversample_minority: Boolean, if True, the minority class (classification == 0) is duplicated to balance the dataset.\n",
        "  :param undersample_majority: Boolean, if True, majority class data with audio lengths above a threshold (specified by DROP_SEGMENTS) are dropped.\n",
        "  :returns: DataFrame with the desired processed training data.\n",
        "  \"\"\"\n",
        "  if oversample_minority:\n",
        "    class_0 = train_df[train_df['classification'] == 0]\n",
        "    train_df = pd.concat([train_df, class_0])\n",
        "  if undersample_majority:\n",
        "    DROP_SEGMENTS = 5\n",
        "    def get_audio_length_group(file_name):\n",
        "        return int(re.findall(r'\\d+', file_name)[-1])\n",
        "    train_df['audio_length_group'] = train_df['audio_file_name'].apply(get_audio_length_group)\n",
        "    train_df = train_df[train_df['audio_length_group'] <= DROP_SEGMENTS]\n",
        "    train_df = train_df.drop(columns=['audio_length_group'])\n",
        "\n",
        "  # some indices are duplicated / removed so we have to reset them\n",
        "  train_df.reset_index(drop=True, inplace=True)\n",
        "  return train_df\n",
        "\n",
        "def print_dataset_balance(df):\n",
        "    \"\"\"\n",
        "    Prints the balance of classifications in a given dataset.\n",
        "\n",
        "    :param df: DataFrame containing the data with a 'classification' column.\n",
        "    \"\"\"\n",
        "    classification_counts = df['classification'].value_counts().reset_index()\n",
        "    classification_counts.columns = ['classification', 'count']\n",
        "    total_rows = classification_counts['count'].sum()\n",
        "    classification_counts['percentage'] = (classification_counts['count'] / total_rows) * 100\n",
        "    classification_counts['percentage'] = classification_counts['percentage'].round(1)\n",
        "    print(classification_counts)\n",
        "\n",
        "def augment_train_dataset(df, augmented_df_filepath):\n",
        "  \"\"\"\n",
        "  Introduce additional 'non-interruption' samples to the dataset, which have been extracted from the GAP dataset with an LLM.\n",
        "\n",
        "  :param df: Original DataFrame containing the training data.\n",
        "  :param augmented_df_filepath: Filepath to the CSV containing the augmented data.\n",
        "  :returns: A combined DataFrame of the original and augmented training data.\n",
        "  \"\"\"\n",
        "  selected_columns = ['audio_file_name','classification', 'wav2vec_embeddings', 'hubert_embeddings']\n",
        "  aug_train_df = pd.read_csv(aug_train_csv_file, usecols=selected_columns, converters={'wav2vec_embeddings': to_tensor, 'hubert_embeddings' : to_tensor})\n",
        "  augmented_df = pd.concat([df, aug_train_df], ignore_index=True)\n",
        "  return augmented_df"
      ]
    },
    {
      "cell_type": "code",
      "execution_count": null,
      "metadata": {
        "colab": {
          "base_uri": "https://localhost:8080/"
        },
        "id": "VFkcLKj4JM7Z",
        "outputId": "f2b4a56c-a09f-4889-9684-7e16816da96b"
      },
      "outputs": [
        {
          "name": "stdout",
          "output_type": "stream",
          "text": [
            "   classification  count  percentage\n",
            "0               0    696        55.5\n",
            "1               1    559        44.5\n"
          ]
        }
      ],
      "source": [
        "AUGMENT = False\n",
        "if AUGMENT:\n",
        "  print(\"Length of the DataFrame before:\", len(train_df))\n",
        "  train_df = augment_train_dataset(train_df, aug_train_csv_file)\n",
        "  print(\"Length of the DataFrame after:\", len(train_df))\n",
        "else:\n",
        "  train_df = process_training_set(train_df, oversample_minority=True, undersample_majority=True, prune=False)\n",
        "print_dataset_balance(train_df)"
      ]
    },
    {
      "cell_type": "code",
      "execution_count": null,
      "metadata": {
        "id": "0psKaz5uFOH1"
      },
      "outputs": [],
      "source": [
        "# Creating the Dataset\n",
        "class AudioEmbeddingsDataset(Dataset):\n",
        "    def __init__(self, embeddings, labels):\n",
        "        self.embeddings = embeddings\n",
        "        self.labels = labels\n",
        "\n",
        "    def __len__(self):\n",
        "        return len(self.embeddings)\n",
        "\n",
        "    def __getitem__(self, idx):\n",
        "        embedding = self.embeddings[idx]\n",
        "        label = self.labels[idx]\n",
        "        return label, embedding\n",
        "\n",
        "# Creating DataLoader with custom collate function\n",
        "FIXED_LENGTH = 250 # fixed sequence length that the model expects as an input, previously 400\n",
        "\n",
        "def collate_fn(batch):\n",
        "    \"\"\"\n",
        "    Function to be passed to the DataLoader class which processes a batch of data points before being passed to the model in training.\n",
        "    The TCN must process process data points of length 250, we adjust each data point in the batch to fit this requirement.\n",
        "\n",
        "    :param batch: array of data points in the dataset.\n",
        "    \"\"\"\n",
        "\n",
        "    labels, embeddings = zip(*batch)\n",
        "    labels = torch.tensor(labels, dtype=torch.float32)\n",
        "\n",
        "    # Truncate or zero-pad all sequences to a fixed length\n",
        "    embeddings = [emb.squeeze(0) for emb in embeddings]\n",
        "    embeddings = [emb[:FIXED_LENGTH, :] if emb.shape[0] > FIXED_LENGTH else torch.cat([emb, torch.zeros((FIXED_LENGTH - emb.shape[0], emb.shape[1]))]) for emb in embeddings]\n",
        "\n",
        "    embeddings = torch.stack(embeddings)\n",
        "    return embeddings, labels\n",
        "\n",
        "\n",
        "train_data, valid_data = train_df[EMBEDDINGS], validation_df[EMBEDDINGS]\n",
        "train_labels, valid_labels = train_df['classification'], validation_df['classification']\n",
        "\n",
        "train_dataset = AudioEmbeddingsDataset(train_data, train_labels)\n",
        "valid_dataset = AudioEmbeddingsDataset(valid_data, valid_labels)\n",
        "\n",
        "BATCH_SIZE = 16\n",
        "train_loader = DataLoader(train_dataset, batch_size=BATCH_SIZE, shuffle=True, collate_fn=collate_fn)\n",
        "valid_loader = DataLoader(valid_dataset, batch_size=BATCH_SIZE, collate_fn=collate_fn)"
      ]
    },
    {
      "cell_type": "code",
      "execution_count": null,
      "metadata": {
        "id": "XsXgKm08Vyaw"
      },
      "outputs": [],
      "source": [
        "class NormReLUChannelNormalization(nn.Module):\n",
        "    def __init__(self, epsilon=1e-5):\n",
        "        super(NormReLUChannelNormalization, self).__init__()\n",
        "        self.epsilon = epsilon\n",
        "        self.relu = nn.ReLU()\n",
        "\n",
        "    def forward(self, x):\n",
        "        x = self.relu(x)\n",
        "        max_values, _ = torch.max(torch.abs(x), dim=2, keepdim=True)\n",
        "        max_values += self.epsilon\n",
        "        out = x / max_values\n",
        "        return out\n",
        "\n",
        "class WaveNetActivation(nn.Module):\n",
        "    def __init__(self):\n",
        "        super(WaveNetActivation, self).__init__()\n",
        "\n",
        "    def forward(self, x):\n",
        "        tanh_out = torch.tanh(x)\n",
        "        sigm_out = torch.sigmoid(x)\n",
        "        return tanh_out * sigm_out\n",
        "\n",
        "class Chomp1d(nn.Module):\n",
        "    def __init__(self, chomp_size):\n",
        "        super(Chomp1d, self).__init__()\n",
        "        self.chomp_size = chomp_size\n",
        "\n",
        "    def forward(self, x):\n",
        "        return x[:, :, :-self.chomp_size].contiguous()\n",
        "\n",
        "class ResidualBlock(nn.Module):\n",
        "    def __init__(self, in_channels, out_channels, dilation, kernel_size, activation, dropout=0):\n",
        "        super(ResidualBlock, self).__init__()\n",
        "        chomp_size = (kernel_size-1) * dilation\n",
        "        padding = (kernel_size-1) * dilation\n",
        "        self.conv1 = weight_norm(nn.Conv1d(in_channels, out_channels, kernel_size,\n",
        "                                           stride=1, padding=padding, dilation=dilation))\n",
        "        self.chomp1 = Chomp1d(chomp_size)\n",
        "        self.dropout = nn.Dropout(dropout)\n",
        "        self.activation = activation\n",
        "        self.conv2 = weight_norm(nn.Conv1d(out_channels, out_channels, kernel_size,\n",
        "                                           stride=1, padding=padding, dilation=dilation))\n",
        "        self.chomp2 = Chomp1d(chomp_size)\n",
        "        self.net = nn.Sequential(self.conv1, self.chomp1, self.activation, self.dropout,\n",
        "                                 self.conv2, self.chomp2, self.activation, self.dropout)\n",
        "        self.downsample = nn.Conv1d(in_channels, out_channels, 1) if in_channels != out_channels else None\n",
        "        self.relu = nn.ReLU()\n",
        "        self.init_weights()\n",
        "\n",
        "    def init_weights(self):\n",
        "        self.conv1.weight.data.normal_(0, 0.01)\n",
        "        self.conv2.weight.data.normal_(0, 0.01)\n",
        "        if self.downsample is not None:\n",
        "            self.downsample.weight.data.normal_(0, 0.01)\n",
        "\n",
        "    def forward(self, x):\n",
        "        out = self.net(x)\n",
        "        res = x if self.downsample is None else self.downsample(x)\n",
        "        return self.relu(out + res)\n",
        "\n",
        "class TemporalConvNet(nn.Module):\n",
        "    def __init__(self, in_channels, out_channels, kernel_size=2, dropout=0.2):\n",
        "        super(TemporalConvNet, self).__init__()\n",
        "        layers = []\n",
        "        num_levels = len(out_channels)\n",
        "        for i in range(num_levels):\n",
        "            dilation_size = 2 ** i\n",
        "            in_channels = in_channels if i == 0 else out_channels[i-1]\n",
        "            activation = NormReLUChannelNormalization() if i%2 == 0 else WaveNetActivation()\n",
        "            layers += [ResidualBlock(in_channels, out_channels[i], dilation=dilation_size,\n",
        "                                     kernel_size=kernel_size, activation=activation, dropout=dropout)]\n",
        "\n",
        "        self.network = nn.Sequential(*layers)\n",
        "\n",
        "    def forward(self, x):\n",
        "        return self.network(x)\n",
        "\n",
        "class TCN(nn.Module):\n",
        "    def __init__(self, in_channels, out_channels, kernel_size=2, dropout=0.3):\n",
        "        super(TCN, self).__init__()\n",
        "        self.tcn = TemporalConvNet(in_channels, out_channels, kernel_size=kernel_size, dropout=dropout)\n",
        "        self.linear = nn.Linear(out_channels[-1], 1)\n",
        "\n",
        "    def forward(self, x):\n",
        "        x = x.transpose(1, 2)\n",
        "        y1 = self.tcn(x)\n",
        "        o = self.linear(y1[:, :, -1])\n",
        "        return o"
      ]
    },
    {
      "cell_type": "code",
      "execution_count": null,
      "metadata": {
        "id": "vEEREQVMGes3"
      },
      "outputs": [],
      "source": [
        "PARAMS = {\n",
        "    'optimiser': 'Adam',\n",
        "    'learning-rate': 0.001,\n",
        "    'layers': [1024, 768, 384],\n",
        "    'kernel-size': 2,\n",
        "}\n",
        "\n",
        "classifier_model = TCN(768, PARAMS['layers'], kernel_size=PARAMS['kernel-size'], dropout=0.4)\n",
        "\n",
        "if PARAMS['optimiser'] == 'Adam':\n",
        "    optimizer = torch.optim.Adam(classifier_model.parameters(), lr=PARAMS['learning-rate'])\n",
        "else:\n",
        "    optimizer = torch.optim.SGD(classifier_model.parameters(), lr=PARAMS['learning-rate'], momentum=0.9)\n",
        "\n",
        "criterion = nn.BCEWithLogitsLoss()\n",
        "\n",
        "def binary_accuracy(preds, y):\n",
        "    \"\"\"\n",
        "    Receives predicted values and true labels and computes the average accuracy of the predictions.\n",
        "    Should 8/10 be correctly classified, this returns 0.8, NOT 8\n",
        "\n",
        "    :param preds: Tensor of predicted values.\n",
        "    :param y: Tensor of true labels.\n",
        "    :returns: Accuracy as a floating point value.\n",
        "    \"\"\"\n",
        "    rounded_preds = torch.round(torch.sigmoid(preds)).squeeze()\n",
        "    correct = (rounded_preds == y).float()\n",
        "    acc = correct.sum() / len(correct)\n",
        "    return acc\n",
        "\n",
        "def evaluate(model, iterator, criterion):\n",
        "    \"\"\"\n",
        "    Evaluate the model's performance on a given dataset. This is used for the validation\n",
        "\n",
        "    :param model: PyTorch model to be evaluated.\n",
        "    :param iterator: Iterator that provides batches of data for evaluation.\n",
        "    :param criterion: Loss function used to compute the loss during evaluation.\n",
        "    :returns: Tuple containing average loss, average accuracy and macro average F1 score over all batches.\n",
        "    \"\"\"\n",
        "    epoch_loss = 0\n",
        "    epoch_acc = 0\n",
        "    model = model.to(device)\n",
        "    model.eval()\n",
        "\n",
        "    all_predictions = []\n",
        "    all_labels = []\n",
        "\n",
        "    with torch.no_grad():\n",
        "        for embeddings, labels in iterator:\n",
        "            embeddings, labels = embeddings.to(device), labels.to(device)\n",
        "            predictions = model(embeddings).squeeze(1)\n",
        "            loss = criterion(predictions, labels)\n",
        "            acc = binary_accuracy(predictions, labels)\n",
        "\n",
        "            binary_predictions = (torch.sigmoid(predictions) > 0.5).int()\n",
        "\n",
        "            all_predictions.extend(binary_predictions.cpu().numpy())\n",
        "            all_labels.extend(labels.cpu().numpy())\n",
        "\n",
        "            epoch_loss += loss.item()\n",
        "            epoch_acc += acc.item()\n",
        "        macro_f1 = f1_score(all_labels, all_predictions, average='macro')\n",
        "\n",
        "    return epoch_loss / len(iterator), epoch_acc / len(iterator), macro_f1\n",
        "\n",
        "def train(model, iterator, optimizer, criterion):\n",
        "    \"\"\"\n",
        "    Train the model for one epoch on the dataset.\n",
        "\n",
        "    :param model: The PyTorch model to be trained.\n",
        "    :param iterator: Iterator that provides batches of data for training.\n",
        "    :param optimizer: Optimizer used to update the model's parameters.\n",
        "    :param criterion: Loss function used to compute the loss during training.\n",
        "    :returns: Tuple containing average loss, average accuracy over all batches, and total number of batches.\n",
        "    \"\"\"\n",
        "    epoch_loss = 0\n",
        "    epoch_acc = 0\n",
        "    model = model.to(device)\n",
        "    model.train()\n",
        "\n",
        "    for batch_idx, (embeddings, labels) in enumerate(iterator):\n",
        "        embeddings, labels = embeddings.to(device), labels.to(device)\n",
        "        optimizer.zero_grad()\n",
        "        predictions = model(embeddings).squeeze(1)\n",
        "        loss = criterion(predictions, labels)\n",
        "        acc = binary_accuracy(predictions, labels)\n",
        "        loss.backward()\n",
        "        optimizer.step()\n",
        "\n",
        "        epoch_loss += loss.item()\n",
        "        epoch_acc += acc.item()\n",
        "\n",
        "    return epoch_loss / len(iterator), epoch_acc / len(iterator), len(iterator)"
      ]
    },
    {
      "cell_type": "code",
      "execution_count": null,
      "metadata": {
        "colab": {
          "background_save": true
        },
        "id": "7jQ-IfK8GjH4",
        "outputId": "1572ee51-fd53-4a59-f423-e0afd2c6a10e"
      },
      "outputs": [
        {
          "name": "stdout",
          "output_type": "stream",
          "text": [
            "Epoch: 01\n",
            "\tTrain Loss: 0.654 | Train Acc: 61.58%\n",
            "\t Val. Loss: 0.796 |  Val. Acc: 61.46%\n",
            "\t Val. Macro Avg F1 score: 0.52\n",
            "Epoch: 02\n",
            "\tTrain Loss: 0.573 | Train Acc: 70.94%\n",
            "\t Val. Loss: 0.581 |  Val. Acc: 72.57%\n",
            "\t Val. Macro Avg F1 score: 0.60\n",
            "Epoch: 03\n",
            "\tTrain Loss: 0.555 | Train Acc: 73.47%\n",
            "\t Val. Loss: 0.407 |  Val. Acc: 71.88%\n",
            "\t Val. Macro Avg F1 score: 0.59\n",
            "Epoch: 04\n",
            "\tTrain Loss: 0.479 | Train Acc: 77.70%\n",
            "\t Val. Loss: 0.384 |  Val. Acc: 87.15%\n",
            "\t Val. Macro Avg F1 score: 0.70\n",
            "Epoch: 05\n",
            "\tTrain Loss: 0.437 | Train Acc: 78.75%\n",
            "\t Val. Loss: 0.464 |  Val. Acc: 83.33%\n",
            "\t Val. Macro Avg F1 score: 0.69\n",
            "Epoch: 06\n",
            "\tTrain Loss: 0.403 | Train Acc: 80.85%\n",
            "\t Val. Loss: 0.577 |  Val. Acc: 67.71%\n",
            "\t Val. Macro Avg F1 score: 0.57\n",
            "Epoch: 07\n",
            "\tTrain Loss: 0.367 | Train Acc: 84.49%\n",
            "\t Val. Loss: 0.429 |  Val. Acc: 76.39%\n",
            "\t Val. Macro Avg F1 score: 0.63\n",
            "Model weights saved\n",
            "Total steps:  553\n",
            "Plot of loss saved\n"
          ]
        },
        {
          "data": {
            "image/png": "[encoded data removed]",
            "text/plain": [
              "<Figure size 1000x600 with 2 Axes>"
            ]
          },
          "metadata": {},
          "output_type": "display_data"
        }
      ],
      "source": [
        "N_EPOCHS = 20\n",
        "\n",
        "train_losses = []\n",
        "valid_losses = []\n",
        "macro_f1_scores = []\n",
        "total_steps = 0\n",
        "\n",
        "for epoch in range(N_EPOCHS):\n",
        "    train_loss, train_acc, steps_in_epoch = train(classifier_model, train_loader, optimizer, criterion)\n",
        "    valid_loss, valid_acc, epoch_macro_f1 = evaluate(classifier_model, valid_loader, criterion)\n",
        "    total_steps += steps_in_epoch\n",
        "\n",
        "    train_losses.append(train_loss)\n",
        "    valid_losses.append(valid_loss)\n",
        "    macro_f1_scores.append(epoch_macro_f1)\n",
        "\n",
        "    print(f'Epoch: {epoch+1:02}')\n",
        "    print(f'\\tTrain Loss: {train_loss:.3f} | Train Acc: {train_acc*100:.2f}%')\n",
        "    print(f'\\t Val. Loss: {valid_loss:.3f} |  Val. Acc: {valid_acc*100:.2f}%')\n",
        "    print(f'\\t Val. Macro Avg F1 score: {epoch_macro_f1:.2f}')\n",
        "\n",
        "classifier_model.cpu()\n",
        "torch.save(classifier_model.state_dict(), SAVE_WEIGHTS_PATH)\n",
        "torch.save(classifier_model.tcn.state_dict(), SAVE_CONVNET_WEIGHTS_PATH)\n",
        "print('Model weights saved')\n",
        "print('Total steps: ', total_steps)\n",
        "\n",
        "plt.figure(figsize=(10, 6))\n",
        "plt.plot(range(1, N_EPOCHS+1), train_losses, color='blue', label='Training Loss')\n",
        "plt.plot(range(1, N_EPOCHS+1), valid_losses, color='red', label='Validation Loss')\n",
        "\n",
        "plt.xticks(range(1, N_EPOCHS+1))\n",
        "max_loss = max(max(train_losses), max(valid_losses))\n",
        "max_val = round(max_loss + 0.5, 1)\n",
        "LARGE_TICK_SPACING = True\n",
        "if not LARGE_TICK_SPACING:\n",
        "  yticks = [i for i in np.arange(0, max_val, 0.5)]\n",
        "else:\n",
        "  yticks = [i for i in np.arange(0, max_val, 0.25)]\n",
        "plt.yticks(yticks)\n",
        "\n",
        "for y in yticks:\n",
        "    plt.axhline(y, color='lightgrey', linewidth=0.7)\n",
        "\n",
        "ax = plt.gca()\n",
        "ax.spines['right'].set_color('black')\n",
        "ax.spines['top'].set_visible(False)\n",
        "ax.set_xlabel('Epoch', fontsize=14)\n",
        "ax.set_ylabel('Loss', fontsize=14)\n",
        "ax.tick_params(axis='both', which='major', labelsize=12)\n",
        "\n",
        "ax2 = ax.twinx()\n",
        "ax2.plot(range(1, N_EPOCHS+1), macro_f1_scores, color='green', label='Macro Avg F1', linestyle='--')\n",
        "ax2.set_ylabel('Validation Macro average F1', fontsize=14)\n",
        "ax2.set_ylim(0, 1)  # since F1 score range is [0, 1]\n",
        "ax2.tick_params(axis='y', labelcolor='black')\n",
        "ax2.spines['top'].set_visible(False)\n",
        "\n",
        "lines, labels = ax.get_legend_handles_labels()\n",
        "lines2, labels2 = ax2.get_legend_handles_labels()\n",
        "ax2.legend(lines + lines2, labels + labels2, loc='upper left', fontsize=12)\n",
        "\n",
        "plt.savefig(SAVE_PLOT_IMG_PATH)\n",
        "print('Plot of loss saved')\n",
        "plt.show()"
      ]
    }
  ],
  "metadata": {
    "accelerator": "GPU",
    "colab": {
      "provenance": []
    },
    "kernelspec": {
      "display_name": "Python 3",
      "name": "python3"
    },
    "language_info": {
      "name": "python"
    }
  },
  "nbformat": 4,
  "nbformat_minor": 0
}
