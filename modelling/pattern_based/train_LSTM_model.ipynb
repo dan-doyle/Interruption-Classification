{
  "cells": [
    {
      "cell_type": "code",
      "execution_count": null,
      "metadata": {
        "id": "YIJ7IHiK0PE1"
      },
      "outputs": [],
      "source": [
        "# when executed in a Google Colab setting, we must install the required libraries\n",
        "\n",
        "# !pip install torch\n",
        "# !pip install os\n",
        "# !pip install transformers\n",
        "# !pip install numpy\n",
        "# !pip install pandas"
      ]
    },
    {
      "cell_type": "code",
      "execution_count": null,
      "metadata": {
        "id": "M3FQR4Is0U21"
      },
      "outputs": [],
      "source": [
        "import os\n",
        "import torch\n",
        "from torch import nn\n",
        "from torchtext.data.utils import get_tokenizer\n",
        "from torch.utils.data import Dataset, DataLoader\n",
        "from torch.nn.utils.rnn import pack_padded_sequence, pad_sequence\n",
        "from sklearn.model_selection import train_test_split\n",
        "import matplotlib.pyplot as plt\n",
        "import numpy as np\n",
        "import pandas as pd\n",
        "import soundfile as sf\n",
        "import librosa\n",
        "import pickle\n",
        "import base64\n",
        "import re"
      ]
    },
    {
      "cell_type": "code",
      "execution_count": null,
      "metadata": {
        "colab": {
          "base_uri": "https://localhost:8080/"
        },
        "id": "YRflGl5l2lSr",
        "outputId": "c71ade2d-f76e-4a59-da04-9536ae8dbac2"
      },
      "outputs": [
        {
          "data": {
            "text/plain": [
              "<torch._C.Generator at 0x7b2b9c1d12f0>"
            ]
          },
          "execution_count": 3,
          "metadata": {},
          "output_type": "execute_result"
        }
      ],
      "source": [
        "#### Edit variables and filepaths here ####\n",
        "DATASET_FILEPATH = './drive/MyDrive/Thesis/'\n",
        "DATASET_SEED = 2\n",
        "BASE = 'base' # embedding size 'base' or 'large'\n",
        "EMBEDDING = 'wav2vec_embeddings' # 'hubert_embeddings' or 'wav2vec_embeddings'\n",
        "LARGE_LSTM = False # size of LSTM model, large or small\n",
        "SAVE_WEIGHTS_PATH = os.path.join(DATASET_FILEPATH, 'weights-and-graphs/lstm-base/model.pth')\n",
        "SAVE_PLOT_IMG_PATH = os.path.join(DATASET_FILEPATH, 'weights-and-graphs/lstm-base/epoch_loss.png')\n",
        "SEED = 42\n",
        "torch.manual_seed(SEED)"
      ]
    },
    {
      "cell_type": "code",
      "execution_count": null,
      "metadata": {
        "id": "NiL78EwmcP3v"
      },
      "outputs": [],
      "source": [
        "train_csv_file = os.path.join(DATASET_FILEPATH, f'{BASE}/{DATASET_SEED}/processed/train_dataset.csv')\n",
        "validation_csv_file = os.path.join(DATASET_FILEPATH, f'{BASE}/{DATASET_SEED}/processed/validation_dataset.csv')\n",
        "aug_train_csv_file = os.path.join(DATASET_FILEPATH, f'{BASE}/aug-dataset/processed/train_dataset.csv')"
      ]
    },
    {
      "cell_type": "code",
      "execution_count": null,
      "metadata": {
        "colab": {
          "base_uri": "https://localhost:8080/"
        },
        "id": "DCki3DOu1XJw",
        "outputId": "60e26f4f-b4cf-4922-c79e-e541efccc7d5"
      },
      "outputs": [
        {
          "name": "stdout",
          "output_type": "stream",
          "text": [
            "Device:  cuda\n"
          ]
        }
      ],
      "source": [
        "if torch.cuda.is_available():\n",
        "    device = torch.device('cuda')\n",
        "else:\n",
        "    device = torch.device(\"cpu\")\n",
        "print('Device: ', device)"
      ]
    },
    {
      "cell_type": "code",
      "execution_count": null,
      "metadata": {
        "colab": {
          "base_uri": "https://localhost:8080/"
        },
        "id": "I0Y15hQ21bKk",
        "outputId": "5125d9d1-36d4-4fb6-e68b-320654621bda"
      },
      "outputs": [
        {
          "name": "stdout",
          "output_type": "stream",
          "text": [
            "CSV presaved and loaded in\n"
          ]
        }
      ],
      "source": [
        "# serialization helper functions\n",
        "def to_tensor(base64_str):\n",
        "    return pickle.loads(base64.b64decode(base64_str.encode()))\n",
        "\n",
        "selected_columns = ['audio_file_name','classification', EMBEDDING]\n",
        "train_df = pd.read_csv(train_csv_file, usecols=selected_columns, converters={EMBEDDING : to_tensor})\n",
        "validation_df = pd.read_csv(validation_csv_file, usecols=selected_columns, converters={EMBEDDING : to_tensor})\n",
        "print('CSV presaved and loaded in')"
      ]
    },
    {
      "cell_type": "code",
      "execution_count": null,
      "metadata": {
        "id": "T52aoHK1JX-C"
      },
      "outputs": [],
      "source": [
        "def process_training_set(train_df, oversample_minority=False, undersample_majority=False):\n",
        "  \"\"\"\n",
        "  Re-sample the training dataset, with options to oversample minority class and undersample majority class based on audio lengths.\n",
        "\n",
        "  :param train_df: DataFrame containing the training data with columns ['classification', 'audio_file_name'] among others.\n",
        "  :param oversample_minority: Boolean, if True, the minority class (classification == 0) is duplicated to balance the dataset.\n",
        "  :param undersample_majority: Boolean, if True, majority class data with audio lengths above a threshold (specified by DROP_SEGMENTS) are dropped.\n",
        "  :returns: DataFrame with the desired processed training data.\n",
        "  \"\"\"\n",
        "  if oversample_minority:\n",
        "    class_0 = train_df[train_df['classification'] == 0]\n",
        "    train_df = pd.concat([train_df, class_0])\n",
        "  if undersample_majority:\n",
        "    DROP_SEGMENTS = 5\n",
        "    def get_audio_length_group(file_name):\n",
        "        return int(re.findall(r'\\d+', file_name)[-1])\n",
        "    train_df['audio_length_group'] = train_df['audio_file_name'].apply(get_audio_length_group)\n",
        "    train_df = train_df[train_df['audio_length_group'] <= DROP_SEGMENTS]\n",
        "    train_df = train_df.drop(columns=['audio_length_group'])\n",
        "\n",
        "  # some indices are duplicated / removed so we have to reset them\n",
        "  train_df.reset_index(drop=True, inplace=True)\n",
        "  return train_df\n",
        "\n",
        "def print_dataset_balance(df):\n",
        "    \"\"\"\n",
        "    Prints the balance of classifications in a given dataset.\n",
        "\n",
        "    :param df: DataFrame containing the data with a 'classification' column.\n",
        "    \"\"\"\n",
        "    classification_counts = df['classification'].value_counts().reset_index()\n",
        "    classification_counts.columns = ['classification', 'count']\n",
        "    total_rows = classification_counts['count'].sum()\n",
        "    classification_counts['percentage'] = (classification_counts['count'] / total_rows) * 100\n",
        "    classification_counts['percentage'] = classification_counts['percentage'].round(1)\n",
        "    print(classification_counts)\n",
        "\n",
        "def augment_train_dataset(df, augmented_df_filepath):\n",
        "  \"\"\"\n",
        "  Introduce additional 'non-interruption' samples to the dataset, which have been extracted from the GAP dataset with an LLM.\n",
        "\n",
        "  :param df: Original DataFrame containing the training data.\n",
        "  :param augmented_df_filepath: Filepath to the CSV containing the augmented data.\n",
        "  :returns: A combined DataFrame of the original and augmented training data.\n",
        "  \"\"\"\n",
        "  selected_columns = ['audio_file_name','classification', 'wav2vec_embeddings', 'hubert_embeddings']\n",
        "  aug_train_df = pd.read_csv(aug_train_csv_file, usecols=selected_columns, converters={'wav2vec_embeddings': to_tensor, 'hubert_embeddings' : to_tensor})\n",
        "  augmented_df = pd.concat([df, aug_train_df], ignore_index=True)\n",
        "  return augmented_df"
      ]
    },
    {
      "cell_type": "code",
      "execution_count": null,
      "metadata": {
        "colab": {
          "base_uri": "https://localhost:8080/"
        },
        "id": "iTtddURvJYeI",
        "outputId": "84bae8ec-3c14-4350-c643-9b9113ca242c"
      },
      "outputs": [
        {
          "name": "stdout",
          "output_type": "stream",
          "text": [
            "Length of the DataFrame before: 1304\n",
            "Length of the DataFrame after: 1773\n",
            "   classification  count  percentage\n",
            "0               1    944        53.2\n",
            "1               0    829        46.8\n"
          ]
        }
      ],
      "source": [
        "AUGMENT = True\n",
        "\n",
        "if AUGMENT:\n",
        "  print(\"Length of the DataFrame before:\", len(train_df))\n",
        "  train_df = augment_train_dataset(train_df, aug_train_csv_file)\n",
        "  print(\"Length of the DataFrame after:\", len(train_df))\n",
        "else:\n",
        "  train_df = process_training_set(train_df, oversample_minority=True, undersample_majority=True, prune=False)\n",
        "print_dataset_balance(train_df)"
      ]
    },
    {
      "cell_type": "code",
      "execution_count": null,
      "metadata": {
        "id": "PZZ1NTb51fRA"
      },
      "outputs": [],
      "source": [
        "# create the dataset\n",
        "class AudioEmbeddingsDataset(Dataset):\n",
        "    def __init__(self, embeddings, labels):\n",
        "        self.embeddings = embeddings\n",
        "        self.labels = labels\n",
        "\n",
        "    def __len__(self):\n",
        "        return len(self.embeddings)\n",
        "\n",
        "    def __getitem__(self, idx):\n",
        "        embedding = self.embeddings[idx]\n",
        "        label = self.labels[idx]\n",
        "        return label, embedding\n",
        "\n",
        "def collate_fn(batch):\n",
        "    \"\"\"\n",
        "    Function to be passed to the DataLoader class which processes a batch of data points before being passed to the model in training. The LSTM must have all batch samples of equal length.\n",
        "\n",
        "    :param batch: array of data points in the dataset.\n",
        "    \"\"\"\n",
        "    labels, embeddings = zip(*batch)\n",
        "    labels = torch.tensor(labels, dtype=torch.float32)\n",
        "    lengths = [ emb.shape[0] for emb in embeddings ]\n",
        "    embeddings = pad_sequence(embeddings, batch_first=True)\n",
        "    return embeddings, labels, lengths\n",
        "\n",
        "# split the dataset, 80% train 20% test\n",
        "train_data, valid_data = train_df[EMBEDDING], validation_df[EMBEDDING]\n",
        "train_labels, valid_labels = train_df['classification'], validation_df['classification']\n",
        "\n",
        "train_dataset = AudioEmbeddingsDataset(train_data, train_labels)\n",
        "valid_dataset = AudioEmbeddingsDataset(valid_data, valid_labels)\n",
        "\n",
        "BATCH_SIZE = 16\n",
        "train_loader = DataLoader(train_dataset, batch_size=BATCH_SIZE, shuffle=True, collate_fn=collate_fn)\n",
        "valid_loader = DataLoader(valid_dataset, batch_size=BATCH_SIZE, collate_fn=collate_fn)"
      ]
    },
    {
      "cell_type": "code",
      "execution_count": null,
      "metadata": {
        "id": "KgiSJk2z1lXY"
      },
      "outputs": [],
      "source": [
        "# LSTM Classifier\n",
        "class Classifier(nn.Module):\n",
        "    def __init__(self, embedding_dim, hidden_dim, output_dim, n_layers, bidirectional, dropout_rate):\n",
        "        super().__init__()\n",
        "        self.rnn = nn.LSTM(embedding_dim, hidden_dim, num_layers=n_layers, bidirectional=bidirectional, dropout=dropout_rate if n_layers > 1 else 0)\n",
        "        self.fc = nn.Linear(hidden_dim * 2, output_dim)\n",
        "        self.dropout = nn.Dropout(dropout_rate)\n",
        "\n",
        "    def forward(self, embedding, lengths):\n",
        "        packed = pack_padded_sequence(embedding, lengths, batch_first=True, enforce_sorted=False)\n",
        "        packed_output, (hidden, cell) = self.rnn(packed)\n",
        "        hidden = self.dropout(torch.cat((hidden[-2,:,:], hidden[-1,:,:]), dim=1))\n",
        "        return self.fc(hidden)"
      ]
    },
    {
      "cell_type": "code",
      "execution_count": null,
      "metadata": {
        "id": "Qv8HhrqD1rBF"
      },
      "outputs": [],
      "source": [
        "if LARGE_LSTM:\n",
        "  EMBEDDING_DIMENSION = 768\n",
        "  NUM_HIDDEN_UNITS = 768\n",
        "  OUTPUT_DIMENSION = 1\n",
        "  NUM_LSTM_LAYERS = 4\n",
        "  BI_DIRECTIONAL = True\n",
        "  DROPOUT_RATE = 0.5\n",
        "else:\n",
        "  EMBEDDING_DIMENSION = 768\n",
        "  NUM_HIDDEN_UNITS = 256\n",
        "  OUTPUT_DIMENSION = 1\n",
        "  NUM_LSTM_LAYERS = 2\n",
        "  BI_DIRECTIONAL = True\n",
        "  DROPOUT_RATE = 0.3\n",
        "\n",
        "classifier_model = Classifier(EMBEDDING_DIMENSION, NUM_HIDDEN_UNITS, OUTPUT_DIMENSION, NUM_LSTM_LAYERS, BI_DIRECTIONAL, DROPOUT_RATE).to(device)"
      ]
    },
    {
      "cell_type": "code",
      "execution_count": null,
      "metadata": {
        "id": "vGToTipH1tgS"
      },
      "outputs": [],
      "source": [
        "# training the model\n",
        "optimizer = torch.optim.Adam(classifier_model.parameters())\n",
        "criterion = nn.BCEWithLogitsLoss()\n",
        "\n",
        "def binary_accuracy(preds, y):\n",
        "    \"\"\"\n",
        "    Receives predicted values and true labels and computes the average accuracy of the predictions.\n",
        "\n",
        "    :param preds: Tensor of predicted values.\n",
        "    :param y: Tensor of true labels.\n",
        "    :returns: Accuracy as a floating point value.\n",
        "    \"\"\"\n",
        "    rounded_preds = torch.round(torch.sigmoid(preds)).squeeze()\n",
        "    correct = (rounded_preds == y).float()\n",
        "    acc = correct.sum() / len(correct)\n",
        "    return acc\n",
        "\n",
        "def evaluate(model, iterator, criterion):\n",
        "    \"\"\"\n",
        "    Evaluate the model's performance on a given dataset. This is used for the validation\n",
        "\n",
        "    :param model: PyTorch model to be evaluated.\n",
        "    :param iterator: Iterator that provides batches of data for evaluation.\n",
        "    :param criterion: Loss function used to compute the loss during evaluation.\n",
        "    :returns: Tuple containing average loss and average accuracy over all batches.\n",
        "    \"\"\"\n",
        "    epoch_loss = 0\n",
        "    epoch_acc = 0\n",
        "    model = model.to(device)\n",
        "    model.eval()\n",
        "\n",
        "    with torch.no_grad():\n",
        "        for embeddings, labels, lengths in iterator:\n",
        "            embeddings, labels = embeddings.to(device), labels.to(device)\n",
        "            predictions = model(embeddings, lengths).squeeze(1)\n",
        "            loss = criterion(predictions, labels)\n",
        "            acc = binary_accuracy(predictions, labels)\n",
        "\n",
        "            epoch_loss += loss.item()\n",
        "            epoch_acc += acc.item()\n",
        "\n",
        "    return epoch_loss / len(iterator), epoch_acc / len(iterator)\n",
        "\n",
        "def train(model, iterator, optimizer, criterion):\n",
        "    \"\"\"\n",
        "    Train the model for one epoch on the dataset.\n",
        "\n",
        "    :param model: The PyTorch model to be trained.\n",
        "    :param iterator: Iterator that provides batches of data for training.\n",
        "    :param optimizer: Optimizer used to update the model's parameters.\n",
        "    :param criterion: Loss function used to compute the loss during training.\n",
        "    :returns: Tuple containing average loss, average accuracy over all batches, and total number of batches.\n",
        "    \"\"\"\n",
        "    epoch_loss = 0\n",
        "    epoch_acc = 0\n",
        "    model = model.to(device)\n",
        "    model.train()\n",
        "\n",
        "    for batch_idx, (embeddings, labels, lengths) in enumerate(iterator):\n",
        "        embeddings, labels = embeddings.to(device), labels.to(device)\n",
        "        optimizer.zero_grad()\n",
        "        predictions = model(embeddings, lengths).squeeze(1)\n",
        "        loss = criterion(predictions, labels)\n",
        "        acc = binary_accuracy(predictions, labels)\n",
        "        loss.backward()\n",
        "        optimizer.step()\n",
        "\n",
        "        epoch_loss += loss.item()\n",
        "        epoch_acc += acc.item()\n",
        "\n",
        "    return epoch_loss / len(iterator), epoch_acc / len(iterator), len(iterator)"
      ]
    },
    {
      "cell_type": "code",
      "execution_count": null,
      "metadata": {
        "colab": {
          "base_uri": "https://localhost:8080/",
          "height": 1000
        },
        "id": "fZ49BWV51xBc",
        "outputId": "b64603ae-cf33-4532-e2d5-12268f1c7ad4"
      },
      "outputs": [
        {
          "name": "stdout",
          "output_type": "stream",
          "text": [
            "Epoch: 01\n",
            "\tTrain Loss: 0.456 | Train Acc: 78.90%\n",
            "\t Val. Loss: 0.740 |  Val. Acc: 55.90%\n",
            "Epoch: 02\n",
            "\tTrain Loss: 0.324 | Train Acc: 86.52%\n",
            "\t Val. Loss: 0.450 |  Val. Acc: 78.82%\n",
            "Epoch: 03\n",
            "\tTrain Loss: 0.235 | Train Acc: 90.58%\n",
            "\t Val. Loss: 0.657 |  Val. Acc: 76.74%\n",
            "Epoch: 04\n",
            "\tTrain Loss: 0.182 | Train Acc: 92.96%\n",
            "\t Val. Loss: 0.917 |  Val. Acc: 65.62%\n",
            "Epoch: 05\n",
            "\tTrain Loss: 0.149 | Train Acc: 93.89%\n",
            "\t Val. Loss: 1.404 |  Val. Acc: 54.86%\n",
            "Epoch: 06\n",
            "\tTrain Loss: 0.106 | Train Acc: 95.82%\n",
            "\t Val. Loss: 0.926 |  Val. Acc: 67.36%\n",
            "Epoch: 07\n",
            "\tTrain Loss: 0.081 | Train Acc: 97.62%\n",
            "\t Val. Loss: 0.989 |  Val. Acc: 69.79%\n",
            "Epoch: 08\n",
            "\tTrain Loss: 0.056 | Train Acc: 98.03%\n",
            "\t Val. Loss: 1.192 |  Val. Acc: 71.53%\n",
            "Epoch: 09\n",
            "\tTrain Loss: 0.059 | Train Acc: 97.62%\n",
            "\t Val. Loss: 0.924 |  Val. Acc: 71.53%\n",
            "Epoch: 10\n",
            "\tTrain Loss: 0.052 | Train Acc: 97.69%\n",
            "\t Val. Loss: 1.326 |  Val. Acc: 70.49%\n",
            "Epoch: 11\n",
            "\tTrain Loss: 0.068 | Train Acc: 97.34%\n",
            "\t Val. Loss: 1.300 |  Val. Acc: 64.58%\n",
            "Epoch: 12\n",
            "\tTrain Loss: 0.038 | Train Acc: 98.99%\n",
            "\t Val. Loss: 2.412 |  Val. Acc: 39.58%\n",
            "Epoch: 13\n",
            "\tTrain Loss: 0.028 | Train Acc: 98.80%\n",
            "\t Val. Loss: 1.825 |  Val. Acc: 64.58%\n",
            "Epoch: 14\n",
            "\tTrain Loss: 0.018 | Train Acc: 99.27%\n",
            "\t Val. Loss: 1.965 |  Val. Acc: 63.89%\n",
            "Epoch: 15\n",
            "\tTrain Loss: 0.052 | Train Acc: 97.80%\n",
            "\t Val. Loss: 2.303 |  Val. Acc: 51.74%\n",
            "Epoch: 16\n",
            "\tTrain Loss: 0.039 | Train Acc: 98.76%\n",
            "\t Val. Loss: 1.020 |  Val. Acc: 76.04%\n",
            "Epoch: 17\n",
            "\tTrain Loss: 0.009 | Train Acc: 99.66%\n",
            "\t Val. Loss: 1.495 |  Val. Acc: 72.92%\n",
            "Epoch: 18\n",
            "\tTrain Loss: 0.003 | Train Acc: 99.89%\n",
            "\t Val. Loss: 2.009 |  Val. Acc: 70.49%\n",
            "Epoch: 19\n",
            "\tTrain Loss: 0.024 | Train Acc: 99.38%\n",
            "\t Val. Loss: 2.544 |  Val. Acc: 53.82%\n",
            "Epoch: 20\n",
            "\tTrain Loss: 0.025 | Train Acc: 99.10%\n",
            "\t Val. Loss: 1.990 |  Val. Acc: 62.85%\n",
            "Model weights saved\n",
            "Total steps:  2220\n",
            "Plot of loss saved\n"
          ]
        },
        {
          "data": {
            "image/png": "[encoded data removed]",
            "text/plain": [
              "<Figure size 1000x600 with 1 Axes>"
            ]
          },
          "metadata": {},
          "output_type": "display_data"
        }
      ],
      "source": [
        "N_EPOCHS = 20\n",
        "\n",
        "train_losses = []\n",
        "valid_losses = []\n",
        "total_steps = 0\n",
        "\n",
        "for epoch in range(N_EPOCHS):\n",
        "    train_loss, train_acc, steps_in_epoch = train(classifier_model, train_loader, optimizer, criterion)\n",
        "    valid_loss, valid_acc = evaluate(classifier_model, valid_loader, criterion)\n",
        "    total_steps += steps_in_epoch\n",
        "\n",
        "    train_losses.append(train_loss)\n",
        "    valid_losses.append(valid_loss)\n",
        "\n",
        "    print(f'Epoch: {epoch+1:02}')\n",
        "    print(f'\\tTrain Loss: {train_loss:.3f} | Train Acc: {train_acc*100:.2f}%')\n",
        "    print(f'\\t Val. Loss: {valid_loss:.3f} |  Val. Acc: {valid_acc*100:.2f}%')\n",
        "\n",
        "classifier_model.cpu()\n",
        "torch.save(classifier_model.state_dict(), SAVE_WEIGHTS_PATH)\n",
        "print('Model weights saved')\n",
        "print('Total steps: ', total_steps)\n",
        "\n",
        "plt.figure(figsize=(10, 6))\n",
        "plt.plot(range(1, N_EPOCHS+1), train_losses, color='blue', label='Training Loss')\n",
        "plt.plot(range(1, N_EPOCHS+1), valid_losses, color='red', label='Validation Loss')\n",
        "\n",
        "plt.xticks(range(1, N_EPOCHS+1))\n",
        "max_loss = max(max(train_losses), max(valid_losses))\n",
        "max_val = round(max_loss + 0.5, 1)\n",
        "if not LARGE_LSTM:\n",
        "  yticks = [i for i in np.arange(0, max_val, 0.5)]\n",
        "else:\n",
        "  yticks = [i for i in np.arange(0, max_val, 0.25)]\n",
        "plt.yticks(yticks)\n",
        "\n",
        "for y in yticks:\n",
        "    plt.axhline(y, color='lightgrey', linewidth=0.7)\n",
        "\n",
        "ax = plt.gca()\n",
        "ax.spines['right'].set_visible(False)\n",
        "ax.spines['top'].set_visible(False)\n",
        "\n",
        "plt.xlabel('Epoch', fontsize=14)\n",
        "plt.ylabel('Loss', fontsize=14)\n",
        "ax.tick_params(axis='both', which='major', labelsize=12)\n",
        "plt.legend(loc='upper left', fontsize=12)\n",
        "\n",
        "plt.savefig(SAVE_PLOT_IMG_PATH)\n",
        "print('Plot of loss saved')\n",
        "plt.show()"
      ]
    }
  ],
  "metadata": {
    "accelerator": "GPU",
    "colab": {
      "gpuType": "T4",
      "provenance": []
    },
    "kernelspec": {
      "display_name": "Python 3",
      "name": "python3"
    },
    "language_info": {
      "name": "python"
    }
  },
  "nbformat": 4,
  "nbformat_minor": 0
}
