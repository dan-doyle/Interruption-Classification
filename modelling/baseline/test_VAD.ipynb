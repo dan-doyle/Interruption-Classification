{
  "cells": [
    {
      "cell_type": "code",
      "execution_count": null,
      "metadata": {
        "id": "8aPWXEi-FTGl"
      },
      "outputs": [],
      "source": [
        "# when executed in a Google Colab setting, we must install the required libraries\n",
        "\n",
        "# !pip install torch\n",
        "# !pip install os\n",
        "# !pip install transformers\n",
        "# !pip install numpy\n",
        "# !pip install pandas"
      ]
    },
    {
      "cell_type": "code",
      "execution_count": null,
      "metadata": {
        "id": "cCoFa99OFjv1"
      },
      "outputs": [],
      "source": [
        "import os\n",
        "import torch\n",
        "from torch import nn\n",
        "import torch.nn.functional as F\n",
        "import torch.optim as optim\n",
        "from torch.utils.data import Dataset, DataLoader\n",
        "from torch.nn.utils.rnn import pack_padded_sequence, pad_sequence\n",
        "from torch.distributions.beta import Beta\n",
        "from torch.nn.utils import weight_norm\n",
        "from torchaudio.transforms import MelSpectrogram, MFCC\n",
        "import torchaudio\n",
        "import numpy as np\n",
        "import pandas as pd\n",
        "import random\n",
        "import pickle\n",
        "import time\n",
        "import base64\n",
        "from sklearn.metrics import average_precision_score, recall_score, classification_report, PrecisionRecallDisplay\n",
        "import matplotlib.pyplot as plt\n",
        "import re"
      ]
    },
    {
      "cell_type": "code",
      "execution_count": null,
      "metadata": {
        "id": "UmiSqAaYHX47"
      },
      "outputs": [],
      "source": [
        "#### Edit variables and filepaths here ####\n",
        "DATASET_FILEPATH = './drive/MyDrive/Thesis/'\n",
        "DATASET_SEED = 2\n",
        "SEED = 42\n",
        "torch.manual_seed(SEED)\n",
        "EMBEDDINGS = 'hubert_embeddings'\n",
        "LOAD_WEIGHTS_PATH = os.path.join(DATASET_FILEPATH, 'weights-and-graphs/baseline-vad/model.pth')\n",
        "\n",
        "SMALL_CAPACITY = False\n",
        "EMB_SIZE = 'base' # 'base' 768 embeddings or 'large' 1024 embeddings"
      ]
    },
    {
      "cell_type": "code",
      "execution_count": null,
      "metadata": {
        "colab": {
          "base_uri": "https://localhost:8080/"
        },
        "id": "4gv9Y8tRFba9",
        "outputId": "38022caa-0ddd-4316-99bf-5cbf9b2e5244"
      },
      "outputs": [
        {
          "name": "stdout",
          "output_type": "stream",
          "text": [
            "Device:  cuda\n"
          ]
        }
      ],
      "source": [
        "if torch.cuda.is_available():\n",
        "    device = torch.device('cuda')\n",
        "else:\n",
        "    device = torch.device(\"cpu\")\n",
        "print('Device: ', device)"
      ]
    },
    {
      "cell_type": "code",
      "execution_count": null,
      "metadata": {
        "id": "rlrdyKpSFtim"
      },
      "outputs": [],
      "source": [
        "def to_tensor(base64_str):\n",
        "    return pickle.loads(base64.b64decode(base64_str.encode()))\n",
        "\n",
        "test_csv_file = f'./drive/MyDrive/Thesis/{EMB_SIZE}/{DATASET_SEED}/processed/test_dataset.csv'\n",
        "\n",
        "selected_columns = ['audio_file_name', 'classification', EMBEDDINGS]\n",
        "\n",
        "test_df = pd.read_csv(test_csv_file, usecols=selected_columns, converters={EMBEDDINGS: to_tensor})"
      ]
    },
    {
      "cell_type": "code",
      "execution_count": null,
      "metadata": {
        "id": "gbsKgHA9F6r3"
      },
      "outputs": [],
      "source": [
        "def print_dataset_balance(df):\n",
        "    classification_counts = df['classification'].value_counts().reset_index()\n",
        "    # Rename the columns for clarity\n",
        "    classification_counts.columns = ['classification', 'count']\n",
        "    total_rows = classification_counts['count'].sum()\n",
        "    classification_counts['percentage'] = (classification_counts['count'] / total_rows) * 100\n",
        "    classification_counts['percentage'] = classification_counts['percentage'].round(1)\n",
        "    print(classification_counts)"
      ]
    },
    {
      "cell_type": "code",
      "execution_count": null,
      "metadata": {
        "colab": {
          "base_uri": "https://localhost:8080/"
        },
        "id": "98LHryzyGLXR",
        "outputId": "fd1b3d2d-cc32-41a8-a1b1-3d74a8bbf2c0"
      },
      "outputs": [
        {
          "name": "stdout",
          "output_type": "stream",
          "text": [
            "   classification  count  percentage\n",
            "0               1    284        74.3\n",
            "1               0     98        25.7\n"
          ]
        }
      ],
      "source": [
        "print_dataset_balance(test_df)"
      ]
    },
    {
      "cell_type": "code",
      "execution_count": null,
      "metadata": {
        "id": "ViRRjTHgHaNn"
      },
      "outputs": [],
      "source": [
        "class AudioEmbeddingsDataset(Dataset):\n",
        "    def __init__(self, audio_file_name, labels):\n",
        "        self.labels = labels\n",
        "        self.file_names = audio_file_name\n",
        "\n",
        "        # Precompute and store all MFCC features\n",
        "        self.audio_features = [self.extract_mfcc(os.path.join('./drive/MyDrive/Thesis/audio', fname)) for fname in audio_file_name]\n",
        "\n",
        "    def __len__(self):\n",
        "        return len(self.labels)\n",
        "\n",
        "    def __getitem__(self, idx):\n",
        "        return self.labels[idx], self.file_names[idx], self.audio_features[idx]\n",
        "\n",
        "    def extract_mfcc(self, audio_path):\n",
        "        waveform, sample_rate = torchaudio.load(audio_path)\n",
        "        mfcc_transform = MFCC(\n",
        "            sample_rate=sample_rate,\n",
        "            n_mfcc=13,\n",
        "            melkwargs={\"n_fft\": 400, \"hop_length\": 160, \"n_mels\": 23, \"center\": False},\n",
        "        )\n",
        "        mfcc = mfcc_transform(waveform).squeeze().transpose(0, 1)\n",
        "        return mfcc\n",
        "\n",
        "def collate_fn(batch):\n",
        "    labels, file_names, features = zip(*batch)\n",
        "    labels = torch.tensor(labels, dtype=torch.float32)\n",
        "\n",
        "    # Convert stereo to mono by averaging across the channel dimension\n",
        "    features = [feature.mean(1) for feature in features]\n",
        "    lengths = [feature.shape[1] for feature in features]  # Updated index for time dimension\n",
        "\n",
        "    # Transpose such that time dimension is first\n",
        "    features = [feature.transpose(0, 1) for feature in features]\n",
        "    features = pad_sequence(features, batch_first=True)\n",
        "\n",
        "    return features, file_names, labels, lengths\n",
        "\n",
        "test_labels = test_df['classification']\n",
        "test_file_names = test_df['audio_file_name']\n",
        "\n",
        "test_dataset = AudioEmbeddingsDataset(test_file_names, test_labels)"
      ]
    },
    {
      "cell_type": "code",
      "execution_count": null,
      "metadata": {
        "id": "_e3DUwfZHs6g"
      },
      "outputs": [],
      "source": [
        "BATCH_SIZE = 1 # to allow for analysis of results\n",
        "\n",
        "# Change below for data augmentation\n",
        "test_loader = DataLoader(test_dataset, batch_size=BATCH_SIZE, shuffle=True, collate_fn=collate_fn)"
      ]
    },
    {
      "cell_type": "code",
      "execution_count": null,
      "metadata": {
        "id": "spQu-NElSyul"
      },
      "outputs": [],
      "source": [
        "# LSTM Classifier\n",
        "class Classifier(nn.Module):\n",
        "    def __init__(self, input_dim, hidden_dim, output_dim, n_layers, bidirectional, dropout_rate):\n",
        "        super().__init__()\n",
        "        self.rnn = nn.LSTM(input_dim, hidden_dim, num_layers=n_layers, bidirectional=bidirectional, dropout=dropout_rate if n_layers > 1 else 0)\n",
        "        self.fc = nn.Linear(hidden_dim * 2, output_dim)\n",
        "        self.dropout = nn.Dropout(dropout_rate)\n",
        "\n",
        "    def forward(self, embedding, lengths):\n",
        "        packed = pack_padded_sequence(embedding, lengths, batch_first=True, enforce_sorted=False)\n",
        "        packed_output, (hidden, cell) = self.rnn(packed)\n",
        "        hidden = self.dropout(torch.cat((hidden[-2,:,:], hidden[-1,:,:]), dim=1))\n",
        "        return self.fc(hidden)"
      ]
    },
    {
      "cell_type": "code",
      "execution_count": null,
      "metadata": {
        "colab": {
          "base_uri": "https://localhost:8080/"
        },
        "id": "9AEPuVPmH6mz",
        "outputId": "5ab026af-ef42-4788-ee71-dee27364047c"
      },
      "outputs": [
        {
          "name": "stdout",
          "output_type": "stream",
          "text": [
            "Loaded model in\n"
          ]
        },
        {
          "data": {
            "text/plain": [
              "Classifier(\n",
              "  (rnn): LSTM(13, 64, bidirectional=True)\n",
              "  (fc): Linear(in_features=128, out_features=1, bias=True)\n",
              "  (dropout): Dropout(p=0, inplace=False)\n",
              ")"
            ]
          },
          "execution_count": 12,
          "metadata": {},
          "output_type": "execute_result"
        }
      ],
      "source": [
        "# make these auto-fill parameters in the model\n",
        "INPUT_DIMENSION = 13\n",
        "NUM_HIDDEN_UNITS = 64\n",
        "OUTPUT_DIMENSION = 1\n",
        "NUM_LSTM_LAYERS = 1\n",
        "BI_DIRECTIONAL = True\n",
        "DROPOUT_RATE = 0\n",
        "\n",
        "model = Classifier(INPUT_DIMENSION, NUM_HIDDEN_UNITS, OUTPUT_DIMENSION, NUM_LSTM_LAYERS, BI_DIRECTIONAL, DROPOUT_RATE).to(device)\n",
        "model.load_state_dict(torch.load(LOAD_WEIGHTS_PATH))\n",
        "print('Loaded model in')\n",
        "model.eval()  # set the model to evaluation mode"
      ]
    },
    {
      "cell_type": "code",
      "execution_count": null,
      "metadata": {
        "id": "qg4NQLTvH85U"
      },
      "outputs": [],
      "source": [
        "TRUE_THRESHOLD = 0.5\n",
        "\n",
        "y_name = []\n",
        "y_true = []\n",
        "y_score = []\n",
        "y_assigned = []\n",
        "latencies = []\n",
        "\n",
        "def test(model, iterator):\n",
        "    epoch_loss = 0\n",
        "    epoch_acc = 0\n",
        "    model.eval()\n",
        "\n",
        "    with torch.no_grad():\n",
        "        for audio_features, file_names, labels, lengths in iterator:\n",
        "            audio_features, labels = audio_features.to(device), labels.to(device)\n",
        "            start_time = time.time()\n",
        "            output = model(audio_features, lengths).squeeze(1)\n",
        "            pred = torch.sigmoid(output)\n",
        "            rounded_pred = torch.where(pred >= TRUE_THRESHOLD, torch.tensor(1, device=pred.device), torch.tensor(0, device=pred.device))\n",
        "            end_time = time.time()\n",
        "\n",
        "            latency = end_time - start_time\n",
        "            latencies.append(latency)\n",
        "\n",
        "            y_true.append(float(labels[0]))\n",
        "            y_score.append(float(pred[0]))\n",
        "            y_assigned.append(float(rounded_pred[0]))\n",
        "            y_name.append(file_names[0])\n",
        "\n",
        "test(model, test_loader)"
      ]
    },
    {
      "cell_type": "code",
      "execution_count": null,
      "metadata": {
        "id": "55FLq7v1ODUq"
      },
      "outputs": [],
      "source": [
        "print(classification_report(y_true, y_assigned, target_names=['non-interruption', 'interruption']))"
      ]
    },
    {
      "cell_type": "code",
      "execution_count": null,
      "metadata": {
        "colab": {
          "base_uri": "https://localhost:8080/",
          "height": 472
        },
        "id": "C6RGnZ9FS_Mw",
        "outputId": "9487ee6e-bfe4-4087-e850-5544c95dfd8f"
      },
      "outputs": [
        {
          "data": {
            "image/png": "[encoded data removed]",
            "text/plain": [
              "<Figure size 640x480 with 1 Axes>"
            ]
          },
          "metadata": {},
          "output_type": "display_data"
        }
      ],
      "source": [
        "display = PrecisionRecallDisplay.from_predictions(\n",
        "    y_true, y_score, name=\"LinearSVC\"\n",
        ")\n",
        "\n",
        "_ = display.ax_.set_title(\"2-class Precision-Recall curve\")\n",
        "plt.show()"
      ]
    },
    {
      "cell_type": "code",
      "execution_count": null,
      "metadata": {
        "colab": {
          "base_uri": "https://localhost:8080/"
        },
        "id": "Rbakf5KRV5Pg",
        "outputId": "4a72ceef-4f53-4f9a-afa7-c37b8574122d"
      },
      "outputs": [
        {
          "name": "stdout",
          "output_type": "stream",
          "text": [
            "Mean Latency: 0.014 seconds\n"
          ]
        }
      ],
      "source": [
        "mean_latency = sum(latencies) / len(latencies)\n",
        "print(f\"Mean Latency: {mean_latency:.3f} seconds\")"
      ]
    }
  ],
  "metadata": {
    "accelerator": "GPU",
    "colab": {
      "gpuType": "T4",
      "provenance": []
    },
    "kernelspec": {
      "display_name": "Python 3",
      "name": "python3"
    },
    "language_info": {
      "name": "python"
    }
  },
  "nbformat": 4,
  "nbformat_minor": 0
}
