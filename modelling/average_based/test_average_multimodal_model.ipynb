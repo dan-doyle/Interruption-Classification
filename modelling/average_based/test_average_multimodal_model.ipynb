{
  "cells": [
    {
      "cell_type": "code",
      "execution_count": null,
      "metadata": {
        "id": "8aPWXEi-FTGl"
      },
      "outputs": [],
      "source": [
        "# when executed in a Google Colab setting, we must install the required libraries\n",
        "\n",
        "# !pip install torch\n",
        "# !pip install os\n",
        "# !pip install transformers\n",
        "# !pip install numpy\n",
        "# !pip install pandas"
      ]
    },
    {
      "cell_type": "code",
      "execution_count": 36,
      "metadata": {
        "id": "cCoFa99OFjv1"
      },
      "outputs": [],
      "source": [
        "import os\n",
        "import torch\n",
        "from torch import nn\n",
        "import torch.nn.functional as F\n",
        "import torch.optim as optim\n",
        "from torch.utils.data import Dataset, DataLoader\n",
        "from torch.distributions.beta import Beta\n",
        "import numpy as np\n",
        "import pandas as pd\n",
        "import random\n",
        "import pickle\n",
        "import time\n",
        "import base64\n",
        "from sklearn.metrics import average_precision_score, recall_score, classification_report, PrecisionRecallDisplay\n",
        "import matplotlib.pyplot as plt\n",
        "import re"
      ]
    },
    {
      "cell_type": "code",
      "execution_count": 48,
      "metadata": {
        "id": "UmiSqAaYHX47"
      },
      "outputs": [],
      "source": [
        "DATASET_FILEPATH = './drive/MyDrive/Thesis/'\n",
        "DATASET_SEED = 2\n",
        "SEED = 42\n",
        "torch.manual_seed(SEED)\n",
        "LOAD_MODEL_WEIGHTS = os.path.join(DATASET_FILEPATH, 'weights-and-graphs/average-bert-frozen/model.pth')\n",
        "\n",
        "MODEL_SIZE = 3\n",
        "EMB_SIZE = 'base' # 'base' 768 embeddings or 'large' 1024 embeddings"
      ]
    },
    {
      "cell_type": "code",
      "execution_count": null,
      "metadata": {
        "id": "imCWasSq9tXl"
      },
      "outputs": [],
      "source": [
        "test_csv_file = os.path.join(DATASET_FILEPATH, f'{EMB_SIZE}/{DATASET_SEED}/processed/test_dataset.csv')"
      ]
    },
    {
      "cell_type": "code",
      "execution_count": 49,
      "metadata": {
        "colab": {
          "base_uri": "https://localhost:8080/"
        },
        "id": "4gv9Y8tRFba9",
        "outputId": "7f2ec39a-8f92-4115-cfc0-95387c511de3"
      },
      "outputs": [
        {
          "name": "stdout",
          "output_type": "stream",
          "text": [
            "Device:  cpu\n"
          ]
        }
      ],
      "source": [
        "if torch.cuda.is_available():\n",
        "    device = torch.device('cuda')\n",
        "else:\n",
        "    device = torch.device(\"cpu\")\n",
        "print('Device: ', device)"
      ]
    },
    {
      "cell_type": "code",
      "execution_count": 50,
      "metadata": {
        "id": "rlrdyKpSFtim"
      },
      "outputs": [],
      "source": [
        "EMBEDDINGS = 'hubert_embeddings'\n",
        "\n",
        "def to_tensor(base64_str):\n",
        "    return pickle.loads(base64.b64decode(base64_str.encode()))\n",
        "\n",
        "selected_columns = ['audio_file_name', 'classification', EMBEDDINGS, 'bert_embeddings']\n",
        "\n",
        "test_df = pd.read_csv(test_csv_file, usecols=selected_columns, converters={EMBEDDINGS: to_tensor, 'bert_embeddings': to_tensor})"
      ]
    },
    {
      "cell_type": "code",
      "execution_count": 51,
      "metadata": {
        "id": "gbsKgHA9F6r3"
      },
      "outputs": [],
      "source": [
        "def print_dataset_balance(df):\n",
        "    classification_counts = df['classification'].value_counts().reset_index()\n",
        "    # Rename the columns for clarity\n",
        "    classification_counts.columns = ['classification', 'count']\n",
        "    total_rows = classification_counts['count'].sum()\n",
        "    classification_counts['percentage'] = (classification_counts['count'] / total_rows) * 100\n",
        "    classification_counts['percentage'] = classification_counts['percentage'].round(1)\n",
        "    print(classification_counts)"
      ]
    },
    {
      "cell_type": "code",
      "execution_count": 52,
      "metadata": {
        "colab": {
          "base_uri": "https://localhost:8080/"
        },
        "id": "98LHryzyGLXR",
        "outputId": "448b320f-5352-46e8-c43b-c3f3962bd452"
      },
      "outputs": [
        {
          "name": "stdout",
          "output_type": "stream",
          "text": [
            "   classification  count  percentage\n",
            "0               1    284        74.3\n",
            "1               0     98        25.7\n"
          ]
        }
      ],
      "source": [
        "print_dataset_balance(test_df)\n",
        "\n",
        "# Apply means across hubert embeddings\n",
        "test_df[EMBEDDINGS] = test_df[EMBEDDINGS].apply(lambda x: torch.mean(x, dim=0))"
      ]
    },
    {
      "cell_type": "code",
      "execution_count": 53,
      "metadata": {
        "id": "ViRRjTHgHaNn"
      },
      "outputs": [],
      "source": [
        "class EmbeddingsDataset(Dataset):\n",
        "    def __init__(self, bert_embeddings, audio_embeddings, file_names, labels):\n",
        "        self.bert_embeddings = bert_embeddings\n",
        "        self.audio_embeddings = audio_embeddings\n",
        "        self.file_names = file_names\n",
        "        self.labels = labels\n",
        "\n",
        "    def __len__(self):\n",
        "        return len(self.audio_embeddings)\n",
        "\n",
        "    def __getitem__(self, idx):\n",
        "        bert_embedding = self.bert_embeddings[idx]\n",
        "        audio_embedding = self.audio_embeddings[idx]\n",
        "        label = self.labels[idx]\n",
        "        file_name = self.file_names[idx]\n",
        "        return bert_embedding, audio_embedding, file_name, label\n",
        "\n",
        "bert_test_data = test_df['bert_embeddings']\n",
        "audio_test_data = test_df[EMBEDDINGS]\n",
        "test_labels = test_df['classification']\n",
        "test_file_names = test_df['audio_file_name']\n",
        "\n",
        "test_dataset = EmbeddingsDataset(bert_test_data, audio_test_data, test_file_names, test_labels)"
      ]
    },
    {
      "cell_type": "code",
      "execution_count": 54,
      "metadata": {
        "id": "_e3DUwfZHs6g"
      },
      "outputs": [],
      "source": [
        "BATCH_SIZE = 1 # to allow for analysis of results\n",
        "\n",
        "# Change below for data augmentation\n",
        "test_loader = DataLoader(test_dataset, batch_size=BATCH_SIZE, shuffle=True)"
      ]
    },
    {
      "cell_type": "code",
      "execution_count": 55,
      "metadata": {
        "id": "spQu-NElSyul"
      },
      "outputs": [],
      "source": [
        "if MODEL_SIZE == 1:\n",
        "  hidden_layers = [256]\n",
        "elif MODEL_SIZE == 2:\n",
        "  hidden_layers = [512,256]\n",
        "elif MODEL_SIZE == 3:\n",
        "  hidden_layers = [768, 512, 256]\n",
        "elif MODEL_SIZE == 4:\n",
        "  hidden_layers = [1024, 768, 512, 256]"
      ]
    },
    {
      "cell_type": "code",
      "execution_count": 56,
      "metadata": {
        "id": "xuULbfxtH1sh"
      },
      "outputs": [],
      "source": [
        "class AudioModel(nn.Module):\n",
        "    def __init__(self, audio_embedding_dim=768, hidden_layers=[], dropout_rate=0.5):\n",
        "        super(AudioModel, self).__init__()\n",
        "\n",
        "        layers = []\n",
        "        prev_dim = audio_embedding_dim\n",
        "        for dim in hidden_layers:\n",
        "            layers.extend([\n",
        "                nn.Linear(prev_dim, dim),\n",
        "                nn.ReLU(),\n",
        "                nn.Dropout(dropout_rate)\n",
        "            ])\n",
        "            prev_dim = dim\n",
        "\n",
        "        self.model = nn.Sequential(*layers)\n",
        "\n",
        "    def forward(self, audio_embedding):\n",
        "        return self.model(audio_embedding)"
      ]
    },
    {
      "cell_type": "code",
      "execution_count": 57,
      "metadata": {
        "id": "aV9vbg9v4Qca"
      },
      "outputs": [],
      "source": [
        "class CustomModel(nn.Module):\n",
        "  def __init__(self, bert_embedding_dim=768, hubert_embedding_dim=768 if EMB_SIZE == 'base' else 1024, hidden_dim1=256, hidden_dim2=256, bert_hidden_dim=16, output_dim=1, dropout_rate=0.4):\n",
        "      super(CustomModel, self).__init__()\n",
        "      self.bert_layer1 = nn.Linear(bert_embedding_dim, bert_hidden_dim)\n",
        "      self.dropout1 = nn.Dropout(dropout_rate)\n",
        "      self.bert_layer2 = nn.Linear(bert_hidden_dim, bert_hidden_dim)\n",
        "      self.dropout2 = nn.Dropout(dropout_rate)\n",
        "\n",
        "      self.audio_model = AudioModel(audio_embedding_dim=hubert_embedding_dim, hidden_layers=hidden_layers, dropout_rate=0)\n",
        "\n",
        "\n",
        "      self.fc1 = nn.Linear(hidden_layers[-1] + bert_hidden_dim, hidden_dim1)\n",
        "      self.dropout5 = nn.Dropout(dropout_rate)\n",
        "      self.fc2 = nn.Linear(hidden_dim1, hidden_dim2)\n",
        "      self.dropout6 = nn.Dropout(dropout_rate)\n",
        "      self.output_layer = nn.Linear(hidden_dim2, output_dim)\n",
        "\n",
        "  def forward(self, bert_embedding, hubert_embedding):\n",
        "      bert_out = F.relu(self.bert_layer1(bert_embedding))\n",
        "      bert_out = self.dropout1(bert_out)\n",
        "      bert_out = F.relu(self.bert_layer2(bert_out))\n",
        "      bert_out = self.dropout2(bert_out)\n",
        "\n",
        "      # Use the audio_model to process hubert_embedding\n",
        "      hubert_out = self.audio_model(hubert_embedding)\n",
        "\n",
        "      concatenated = torch.cat((bert_out, hubert_out), dim=1)\n",
        "\n",
        "      fc_out = F.relu(self.fc1(concatenated))\n",
        "      fc_out = self.dropout5(fc_out)\n",
        "      fc_out = F.relu(self.fc2(fc_out))\n",
        "      fc_out = self.dropout6(fc_out)\n",
        "\n",
        "      output = self.output_layer(fc_out)\n",
        "      return output"
      ]
    },
    {
      "cell_type": "code",
      "execution_count": 58,
      "metadata": {
        "colab": {
          "base_uri": "https://localhost:8080/"
        },
        "id": "9AEPuVPmH6mz",
        "outputId": "6b320cd4-da01-4efb-ea77-a9c5a6b039c9"
      },
      "outputs": [
        {
          "name": "stdout",
          "output_type": "stream",
          "text": [
            "Loaded model in\n"
          ]
        },
        {
          "data": {
            "text/plain": [
              "CustomModel(\n",
              "  (bert_layer1): Linear(in_features=768, out_features=16, bias=True)\n",
              "  (dropout1): Dropout(p=0.4, inplace=False)\n",
              "  (bert_layer2): Linear(in_features=16, out_features=16, bias=True)\n",
              "  (dropout2): Dropout(p=0.4, inplace=False)\n",
              "  (audio_model): AudioModel(\n",
              "    (model): Sequential(\n",
              "      (0): Linear(in_features=768, out_features=768, bias=True)\n",
              "      (1): ReLU()\n",
              "      (2): Dropout(p=0, inplace=False)\n",
              "      (3): Linear(in_features=768, out_features=512, bias=True)\n",
              "      (4): ReLU()\n",
              "      (5): Dropout(p=0, inplace=False)\n",
              "      (6): Linear(in_features=512, out_features=256, bias=True)\n",
              "      (7): ReLU()\n",
              "      (8): Dropout(p=0, inplace=False)\n",
              "    )\n",
              "  )\n",
              "  (fc1): Linear(in_features=272, out_features=256, bias=True)\n",
              "  (dropout5): Dropout(p=0.4, inplace=False)\n",
              "  (fc2): Linear(in_features=256, out_features=256, bias=True)\n",
              "  (dropout6): Dropout(p=0.4, inplace=False)\n",
              "  (output_layer): Linear(in_features=256, out_features=1, bias=True)\n",
              ")"
            ]
          },
          "execution_count": 58,
          "metadata": {},
          "output_type": "execute_result"
        }
      ],
      "source": [
        "# Load the trained model\n",
        "model = CustomModel().to(device)\n",
        "model.load_state_dict(torch.load(LOAD_MODEL_WEIGHTS))\n",
        "print('Loaded model in')\n",
        "model.eval()  # set the model to evaluation mode"
      ]
    },
    {
      "cell_type": "code",
      "execution_count": 59,
      "metadata": {
        "id": "qg4NQLTvH85U"
      },
      "outputs": [],
      "source": [
        "TRUE_THRESHOLD = 0.5\n",
        "\n",
        "y_name = []\n",
        "y_true = []\n",
        "y_score = []\n",
        "y_assigned = []\n",
        "latencies = []\n",
        "\n",
        "def test(model, iterator):\n",
        "    epoch_loss = 0\n",
        "    epoch_acc = 0\n",
        "    model.eval()\n",
        "\n",
        "    with torch.no_grad():\n",
        "        for bert_embeddings, audio_embeddings, file_names, labels in iterator:\n",
        "            start_time = time.time()\n",
        "            output = model(bert_embeddings, audio_embeddings).squeeze(1)\n",
        "            pred = torch.sigmoid(output)\n",
        "            rounded_pred = torch.where(pred >= TRUE_THRESHOLD, torch.tensor(1, device=pred.device), torch.tensor(0, device=pred.device))\n",
        "            end_time = time.time()\n",
        "\n",
        "            latency = end_time - start_time\n",
        "            latencies.append(latency)\n",
        "\n",
        "            y_true.append(float(labels[0]))\n",
        "            y_score.append(float(pred[0]))\n",
        "            y_assigned.append(float(rounded_pred[0]))\n",
        "            y_name.append(file_names[0])\n",
        "\n",
        "test(model, test_loader)"
      ]
    },
    {
      "cell_type": "code",
      "execution_count": 60,
      "metadata": {
        "colab": {
          "base_uri": "https://localhost:8080/"
        },
        "id": "55FLq7v1ODUq",
        "outputId": "d6dfa39d-a9ea-421f-d2e2-d6ad2fdd08aa"
      },
      "outputs": [
        {
          "name": "stdout",
          "output_type": "stream",
          "text": [
            "                  precision    recall  f1-score   support\n",
            "\n",
            "non-interruption       0.44      0.39      0.41        98\n",
            "    interruption       0.80      0.83      0.81       284\n",
            "\n",
            "        accuracy                           0.72       382\n",
            "       macro avg       0.62      0.61      0.61       382\n",
            "    weighted avg       0.71      0.72      0.71       382\n",
            "\n"
          ]
        }
      ],
      "source": [
        "print(classification_report(y_true, y_assigned, target_names=['non-interruption', 'interruption']))\n",
        "# Average model"
      ]
    },
    {
      "cell_type": "code",
      "execution_count": 61,
      "metadata": {
        "colab": {
          "base_uri": "https://localhost:8080/",
          "height": 472
        },
        "id": "C6RGnZ9FS_Mw",
        "outputId": "e191e413-84eb-4b0e-d2af-95ad30c06287"
      },
      "outputs": [
        {
          "data": {
            "image/png": "[encoded data removed]",
            "text/plain": [
              "<Figure size 640x480 with 1 Axes>"
            ]
          },
          "metadata": {},
          "output_type": "display_data"
        }
      ],
      "source": [
        "display = PrecisionRecallDisplay.from_predictions(\n",
        "    y_true, y_score, name=\"LinearSVC\"\n",
        ")\n",
        "\n",
        "_ = display.ax_.set_title(\"2-class Precision-Recall curve\")\n",
        "plt.show()"
      ]
    },
    {
      "cell_type": "code",
      "execution_count": 62,
      "metadata": {
        "colab": {
          "base_uri": "https://localhost:8080/"
        },
        "id": "ziQjSlKiWBWO",
        "outputId": "9829fdb3-e127-434d-8f68-a515fa3b7365"
      },
      "outputs": [
        {
          "name": "stdout",
          "output_type": "stream",
          "text": [
            "Mean Latency: 0.718 milliseconds\n"
          ]
        }
      ],
      "source": [
        "mean_latency = (sum(latencies) / len(latencies)) * 1000\n",
        "print(f\"Mean Latency: {mean_latency:.3f} milliseconds\")"
      ]
    }
  ],
  "metadata": {
    "colab": {
      "provenance": []
    },
    "kernelspec": {
      "display_name": "Python 3",
      "name": "python3"
    },
    "language_info": {
      "name": "python"
    }
  },
  "nbformat": 4,
  "nbformat_minor": 0
}
