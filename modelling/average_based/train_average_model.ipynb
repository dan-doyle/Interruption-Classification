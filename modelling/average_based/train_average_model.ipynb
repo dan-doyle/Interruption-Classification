{
  "cells": [
    {
      "cell_type": "code",
      "execution_count": null,
      "metadata": {
        "id": "8aPWXEi-FTGl"
      },
      "outputs": [],
      "source": [
        "# when executed in a Google Colab setting, we must install the required libraries\n",
        "\n",
        "# !pip install torch\n",
        "# !pip install os\n",
        "# !pip install transformers\n",
        "# !pip install numpy\n",
        "# !pip install pandas"
      ]
    },
    {
      "cell_type": "code",
      "execution_count": null,
      "metadata": {
        "id": "cCoFa99OFjv1"
      },
      "outputs": [],
      "source": [
        "import os\n",
        "import torch\n",
        "from torch import nn\n",
        "import torch.nn.functional as F\n",
        "import torch.optim as optim\n",
        "from torch.utils.data import Dataset, DataLoader\n",
        "from torch.distributions.beta import Beta\n",
        "import numpy as np\n",
        "import pandas as pd\n",
        "import random\n",
        "import pickle\n",
        "import base64\n",
        "import matplotlib.pyplot as plt\n",
        "import re\n",
        "from sklearn.metrics import f1_score"
      ]
    },
    {
      "cell_type": "code",
      "execution_count": null,
      "metadata": {
        "id": "UmiSqAaYHX47"
      },
      "outputs": [],
      "source": [
        "DATASET_FILEPATH = './drive/MyDrive/Thesis/'\n",
        "DATASET_SEED = 2\n",
        "SEED = 44\n",
        "torch.manual_seed(SEED)\n",
        "MODEL_SIZE = 2 # Integer between 1 and 4, with larger values representing progressively larger values\n",
        "EMB_SIZE = 'base' # 'base' 768 embeddings or 'large' 1024 embeddings\n",
        "EMBEDDINGS = 'hubert_embeddings'\n",
        "SAVE_WEIGHTS_PATH = os.path.join(DATASET_FILEPATH, 'weights-and-graphs/average/model.pth')\n",
        "SAVE_WEIGHTS_WITHOUT_HEAD_PATH = os.path.join(DATASET_FILEPATH, 'weights-and-graphs/average/model_without_head.pth')\n",
        "SAVE_PLOT_IMG_PATH = os.path.join(DATASET_FILEPATH, 'weights-and-graphs/average/loss.png')"
      ]
    },
    {
      "cell_type": "code",
      "execution_count": null,
      "metadata": {
        "id": "rPQkvPV5w9io"
      },
      "outputs": [],
      "source": [
        "train_csv_file = os.path.join(DATASET_FILEPATH, f'{EMB_SIZE}/{DATASET_SEED}/processed/train_dataset.csv')\n",
        "validation_csv_file = os.path.join(DATASET_FILEPATH, f'{EMB_SIZE}/{DATASET_SEED}/processed/validation_dataset.csv')\n",
        "aug_train_csv_file = os.path.join(DATASET_FILEPATH, '/base/aug-dataset/processed/train_dataset.csv')"
      ]
    },
    {
      "cell_type": "code",
      "execution_count": null,
      "metadata": {
        "colab": {
          "base_uri": "https://localhost:8080/"
        },
        "id": "4gv9Y8tRFba9",
        "outputId": "383c945d-3c5d-40e2-f7ee-dfd510cea4bd"
      },
      "outputs": [
        {
          "name": "stdout",
          "output_type": "stream",
          "text": [
            "Device:  cpu\n"
          ]
        }
      ],
      "source": [
        "if torch.cuda.is_available():\n",
        "    device = torch.device('cuda')\n",
        "else:\n",
        "    device = torch.device(\"cpu\")\n",
        "print('Device: ', device)"
      ]
    },
    {
      "cell_type": "code",
      "execution_count": null,
      "metadata": {
        "id": "rlrdyKpSFtim"
      },
      "outputs": [],
      "source": [
        "def to_tensor(base64_str):\n",
        "    return pickle.loads(base64.b64decode(base64_str.encode()))\n",
        "\n",
        "selected_columns = ['audio_file_name', 'classification', EMBEDDINGS, 'bert_embeddings']\n",
        "\n",
        "train_df = pd.read_csv(train_csv_file, usecols=selected_columns, converters={EMBEDDINGS: to_tensor})\n",
        "validation_df = pd.read_csv(validation_csv_file, usecols=selected_columns, converters={EMBEDDINGS: to_tensor})"
      ]
    },
    {
      "cell_type": "code",
      "execution_count": null,
      "metadata": {
        "id": "gbsKgHA9F6r3"
      },
      "outputs": [],
      "source": [
        "def process_training_set(train_df, oversample_minority=False, undersample_majority=False):\n",
        "  \"\"\"\n",
        "  Re-sample the training dataset, with options to oversample minority class and undersample majority class based on audio lengths.\n",
        "\n",
        "  :param train_df: DataFrame containing the training data with columns ['classification', 'audio_file_name'] among others.\n",
        "  :param oversample_minority: Boolean, if True, the minority class (classification == 0) is duplicated to balance the dataset.\n",
        "  :param undersample_majority: Boolean, if True, majority class data with audio lengths above a threshold (specified by DROP_SEGMENTS) are dropped.\n",
        "  :returns: DataFrame with the desired processed training data.\n",
        "  \"\"\"\n",
        "  if oversample_minority:\n",
        "    class_0 = train_df[train_df['classification'] == 0]\n",
        "    train_df = pd.concat([train_df, class_0])\n",
        "  if undersample_majority:\n",
        "    DROP_SEGMENTS = 5\n",
        "    def get_audio_length_group(file_name):\n",
        "        return int(re.findall(r'\\d+', file_name)[-1])\n",
        "    train_df['audio_length_group'] = train_df['audio_file_name'].apply(get_audio_length_group)\n",
        "    train_df = train_df[train_df['audio_length_group'] <= DROP_SEGMENTS]\n",
        "    train_df = train_df.drop(columns=['audio_length_group'])\n",
        "\n",
        "  # some indices are duplicated / removed so we have to reset them\n",
        "  train_df.reset_index(drop=True, inplace=True)\n",
        "  return train_df\n",
        "\n",
        "def print_dataset_balance(df):\n",
        "    \"\"\"\n",
        "    Prints the balance of classifications in a given dataset.\n",
        "\n",
        "    :param df: DataFrame containing the data with a 'classification' column.\n",
        "    \"\"\"\n",
        "    classification_counts = df['classification'].value_counts().reset_index()\n",
        "    classification_counts.columns = ['classification', 'count']\n",
        "    total_rows = classification_counts['count'].sum()\n",
        "    classification_counts['percentage'] = (classification_counts['count'] / total_rows) * 100\n",
        "    classification_counts['percentage'] = classification_counts['percentage'].round(1)\n",
        "    print(classification_counts)\n",
        "\n",
        "def augment_train_dataset(df, augmented_df_filepath):\n",
        "  \"\"\"\n",
        "  Introduce additional 'non-interruption' samples to the dataset, which have been extracted from the GAP dataset with an LLM.\n",
        "\n",
        "  :param df: Original DataFrame containing the training data.\n",
        "  :param augmented_df_filepath: Filepath to the CSV containing the augmented data.\n",
        "  :returns: A combined DataFrame of the original and augmented training data.\n",
        "  \"\"\"\n",
        "  selected_columns = ['audio_file_name','classification', 'wav2vec_embeddings', 'hubert_embeddings']\n",
        "  aug_train_df = pd.read_csv(aug_train_csv_file, usecols=selected_columns, converters={'wav2vec_embeddings': to_tensor, 'hubert_embeddings' : to_tensor})\n",
        "  augmented_df = pd.concat([df, aug_train_df], ignore_index=True)\n",
        "  return augmented_df"
      ]
    },
    {
      "cell_type": "code",
      "execution_count": null,
      "metadata": {
        "colab": {
          "base_uri": "https://localhost:8080/"
        },
        "id": "98LHryzyGLXR",
        "outputId": "b05f9c8e-28ab-40af-d669-8e92e5724d34"
      },
      "outputs": [
        {
          "name": "stdout",
          "output_type": "stream",
          "text": [
            "   classification  count  percentage\n",
            "0               0    696        55.5\n",
            "1               1    559        44.5\n"
          ]
        }
      ],
      "source": [
        "AUGMENT = False\n",
        "if AUGMENT:\n",
        "  print(\"Length of the DataFrame before:\", len(train_df))\n",
        "  train_df = augment_train_dataset(train_df, aug_train_csv_file)\n",
        "  print(\"Length of the DataFrame after:\", len(train_df))\n",
        "else:\n",
        "  train_df = process_training_set(train_df, oversample_minority=True, undersample_majority=True, prune=False)\n",
        "\n",
        "print_dataset_balance(train_df)\n",
        "\n",
        "# Apply means across hubert embeddings\n",
        "train_df[EMBEDDINGS] = train_df[EMBEDDINGS].apply(lambda x: torch.mean(x, dim=0))\n",
        "validation_df[EMBEDDINGS] = validation_df[EMBEDDINGS].apply(lambda x: torch.mean(x, dim=0))"
      ]
    },
    {
      "cell_type": "code",
      "execution_count": null,
      "metadata": {
        "id": "ViRRjTHgHaNn"
      },
      "outputs": [],
      "source": [
        "class EmbeddingsDataset(Dataset):\n",
        "    def __init__(self, audio_embeddings, labels):\n",
        "        self.audio_embeddings = audio_embeddings\n",
        "        self.labels = labels\n",
        "\n",
        "    def __len__(self):\n",
        "        return len(self.audio_embeddings)\n",
        "\n",
        "    def __getitem__(self, idx):\n",
        "        audio_embedding = self.audio_embeddings[idx]\n",
        "        label = self.labels[idx]\n",
        "        return audio_embedding, label\n",
        "\n",
        "audio_train_data, audio_valid_data = train_df[EMBEDDINGS], validation_df[EMBEDDINGS]\n",
        "train_labels, valid_labels = train_df['classification'], validation_df['classification']\n",
        "\n",
        "train_dataset = EmbeddingsDataset(audio_train_data, train_labels)\n",
        "valid_dataset = EmbeddingsDataset(audio_valid_data, valid_labels)"
      ]
    },
    {
      "cell_type": "code",
      "execution_count": null,
      "metadata": {
        "id": "_e3DUwfZHs6g"
      },
      "outputs": [],
      "source": [
        "BATCH_SIZE = 16\n",
        "\n",
        "# Change below for data augmentation\n",
        "train_loader = DataLoader(train_dataset, batch_size=BATCH_SIZE, shuffle=True)\n",
        "valid_loader = DataLoader(valid_dataset, batch_size=BATCH_SIZE)"
      ]
    },
    {
      "cell_type": "code",
      "execution_count": null,
      "metadata": {
        "id": "PRvyWvaE0mmY"
      },
      "outputs": [],
      "source": [
        "if MODEL_SIZE == 1:\n",
        "  hidden_layers = [256]\n",
        "  dropout_rate = 0.1\n",
        "elif MODEL_SIZE == 2:\n",
        "  hidden_layers = [512,256]\n",
        "  dropout_rate = 0.2\n",
        "elif MODEL_SIZE == 3:\n",
        "  hidden_layers = [768, 512, 256]\n",
        "  dropout_rate = 0.3\n",
        "elif MODEL_SIZE == 4:\n",
        "  hidden_layers = [1024, 768, 512, 256]\n",
        "  dropout_rate = 0.4"
      ]
    },
    {
      "cell_type": "code",
      "execution_count": null,
      "metadata": {
        "id": "hw5w23M9xvfs"
      },
      "outputs": [],
      "source": [
        "class AudioModel(nn.Module):\n",
        "    def __init__(self, audio_embedding_dim=768, hidden_dims=hidden_layers, output_dim=1, dropout_rate=dropout_rate):\n",
        "        super(AudioModel, self).__init__()\n",
        "\n",
        "        layers = []\n",
        "        prev_dim = audio_embedding_dim\n",
        "        for dim in hidden_dims:\n",
        "            layers.extend([\n",
        "                nn.Linear(prev_dim, dim),\n",
        "                nn.ReLU(),\n",
        "                nn.Dropout(dropout_rate)\n",
        "            ])\n",
        "            prev_dim = dim\n",
        "\n",
        "        self.model = nn.Sequential(*layers)\n",
        "\n",
        "        self.output_layer = nn.Linear(hidden_dims[-1], output_dim)\n",
        "\n",
        "    def forward(self, audio_embedding):\n",
        "        out = self.model(audio_embedding)\n",
        "        return self.output_layer(out)"
      ]
    },
    {
      "cell_type": "code",
      "execution_count": null,
      "metadata": {
        "id": "9AEPuVPmH6mz"
      },
      "outputs": [],
      "source": [
        "model = AudioModel()\n",
        "optimizer = optim.Adam(model.parameters())\n",
        "criterion = nn.BCEWithLogitsLoss()"
      ]
    },
    {
      "cell_type": "code",
      "execution_count": null,
      "metadata": {
        "id": "qg4NQLTvH85U"
      },
      "outputs": [],
      "source": [
        "def binary_accuracy(preds, y):\n",
        "    \"\"\"\n",
        "    Receives predicted values and true labels and computes the average accuracy of the predictions.\n",
        "    Should 8/10 be correctly classified, this returns 0.8, NOT 8\n",
        "\n",
        "    :param preds: Tensor of predicted values.\n",
        "    :param y: Tensor of true labels.\n",
        "    :returns: Accuracy as a floating point value.\n",
        "    \"\"\"\n",
        "\n",
        "    #round predictions to the closest integer\n",
        "    rounded_preds = torch.round(torch.sigmoid(preds))\n",
        "    correct = (rounded_preds == y).float()  #convert into float for division\n",
        "    acc = correct.sum() / len(correct)\n",
        "    return acc\n",
        "\n",
        "def evaluate(model, iterator, criterion):\n",
        "    \"\"\"\n",
        "    Evaluate the model's performance on a given dataset. This is used for the validation\n",
        "\n",
        "    :param model: PyTorch model to be evaluated.\n",
        "    :param iterator: Iterator that provides batches of data for evaluation.\n",
        "    :param criterion: Loss function used to compute the loss during evaluation.\n",
        "    :returns: Tuple containing average loss, average accuracy and macro average F1 score over all batches.\n",
        "    \"\"\"\n",
        "    epoch_loss = 0\n",
        "    epoch_acc = 0\n",
        "    model.eval()\n",
        "\n",
        "    all_predictions = [] # new\n",
        "    all_labels = [] # new\n",
        "\n",
        "    with torch.no_grad():\n",
        "        for audio_embeddings, labels in iterator:\n",
        "            predictions = model(audio_embeddings).squeeze(1)\n",
        "            loss = criterion(predictions, labels.float())\n",
        "            acc = binary_accuracy(predictions, labels)\n",
        "\n",
        "            binary_predictions = (torch.sigmoid(predictions) > 0.5).int() # new\n",
        "\n",
        "            all_predictions.extend(binary_predictions.cpu().numpy()) # new\n",
        "            all_labels.extend(labels.cpu().numpy()) # new\n",
        "\n",
        "            epoch_loss += loss.item()\n",
        "            epoch_acc += acc.item()\n",
        "        macro_f1 = f1_score(all_labels, all_predictions, average='macro') # new\n",
        "\n",
        "    return epoch_loss / len(iterator), epoch_acc / len(iterator), macro_f1 # new part: macro_f1\n",
        "\n",
        "def train(model, iterator, optimizer, criterion):\n",
        "    \"\"\"\n",
        "    Train the model for one epoch on the dataset.\n",
        "\n",
        "    :param model: The PyTorch model to be trained.\n",
        "    :param iterator: Iterator that provides batches of data for training.\n",
        "    :param optimizer: Optimizer used to update the model's parameters.\n",
        "    :param criterion: Loss function used to compute the loss during training.\n",
        "    :returns: Tuple containing average loss, average accuracy over all batches, and total number of batches.\n",
        "    \"\"\"\n",
        "    epoch_loss = 0\n",
        "    epoch_acc = 0\n",
        "    model.train()\n",
        "\n",
        "    for audio_embeddings, labels in iterator:\n",
        "        optimizer.zero_grad()\n",
        "        predictions = model(audio_embeddings).squeeze(1)\n",
        "        loss = criterion(predictions, labels.float())\n",
        "        acc = binary_accuracy(predictions, labels)\n",
        "        loss.backward()\n",
        "        optimizer.step()\n",
        "        epoch_loss += loss.item()\n",
        "        epoch_acc += acc.item()\n",
        "\n",
        "    return epoch_loss / len(iterator), epoch_acc / len(iterator), len(iterator)"
      ]
    },
    {
      "cell_type": "code",
      "execution_count": null,
      "metadata": {
        "colab": {
          "base_uri": "https://localhost:8080/",
          "height": 1000
        },
        "id": "jFt9bm7nIAVn",
        "outputId": "40e464ff-f51c-4502-da9d-ba4a7b548259"
      },
      "outputs": [
        {
          "name": "stdout",
          "output_type": "stream",
          "text": [
            "Epoch: 01\n",
            "\tTrain Loss: 0.596 | Train Acc: 69.26%\n",
            "\t Val. Loss: 0.576 |  Val. Acc: 73.96%\n",
            "\t Val. Macro Avg F1 score: 0.60\n",
            "Epoch: 02\n",
            "\tTrain Loss: 0.500 | Train Acc: 75.00%\n",
            "\t Val. Loss: 0.543 |  Val. Acc: 71.53%\n",
            "\t Val. Macro Avg F1 score: 0.57\n",
            "Epoch: 03\n",
            "\tTrain Loss: 0.446 | Train Acc: 79.75%\n",
            "\t Val. Loss: 0.442 |  Val. Acc: 76.74%\n",
            "\t Val. Macro Avg F1 score: 0.58\n",
            "Epoch: 04\n",
            "\tTrain Loss: 0.407 | Train Acc: 81.49%\n",
            "\t Val. Loss: 0.415 |  Val. Acc: 80.56%\n",
            "\t Val. Macro Avg F1 score: 0.58\n",
            "Epoch: 05\n",
            "\tTrain Loss: 0.364 | Train Acc: 84.02%\n",
            "\t Val. Loss: 0.616 |  Val. Acc: 65.97%\n",
            "\t Val. Macro Avg F1 score: 0.53\n",
            "Epoch: 06\n",
            "\tTrain Loss: 0.329 | Train Acc: 86.72%\n",
            "\t Val. Loss: 0.541 |  Val. Acc: 73.61%\n",
            "\t Val. Macro Avg F1 score: 0.59\n",
            "Epoch: 07\n",
            "\tTrain Loss: 0.299 | Train Acc: 89.00%\n",
            "\t Val. Loss: 0.402 |  Val. Acc: 80.56%\n",
            "\t Val. Macro Avg F1 score: 0.57\n",
            "Epoch: 08\n",
            "\tTrain Loss: 0.268 | Train Acc: 89.16%\n",
            "\t Val. Loss: 0.568 |  Val. Acc: 71.88%\n",
            "\t Val. Macro Avg F1 score: 0.55\n",
            "Epoch: 09\n",
            "\tTrain Loss: 0.262 | Train Acc: 89.16%\n",
            "\t Val. Loss: 0.698 |  Val. Acc: 67.71%\n",
            "\t Val. Macro Avg F1 score: 0.55\n",
            "Epoch: 10\n",
            "\tTrain Loss: 0.219 | Train Acc: 92.25%\n",
            "\t Val. Loss: 0.512 |  Val. Acc: 78.12%\n",
            "\t Val. Macro Avg F1 score: 0.62\n",
            "Model weights saved\n",
            "Total steps:  790\n",
            "Plot of loss saved\n"
          ]
        },
        {
          "data": {
            "image/png": "[encoded data removed]",
            "text/plain": [
              "<Figure size 1000x600 with 2 Axes>"
            ]
          },
          "metadata": {},
          "output_type": "display_data"
        }
      ],
      "source": [
        "N_EPOCHS = 20\n",
        "\n",
        "train_losses = []\n",
        "valid_losses = []\n",
        "macro_f1_scores = []\n",
        "total_steps = 0\n",
        "\n",
        "for epoch in range(N_EPOCHS):\n",
        "    train_loss, train_acc, steps_in_epoch = train(model, train_loader, optimizer, criterion)\n",
        "    valid_loss, valid_acc, epoch_macro_f1 = evaluate(model, valid_loader, criterion) # new part: epoch_macro_f1\n",
        "    total_steps += steps_in_epoch\n",
        "\n",
        "    train_losses.append(train_loss)\n",
        "    valid_losses.append(valid_loss)\n",
        "    macro_f1_scores.append(epoch_macro_f1)\n",
        "\n",
        "    print(f'Epoch: {epoch+1:02}')\n",
        "    print(f'\\tTrain Loss: {train_loss:.3f} | Train Acc: {train_acc*100:.2f}%')\n",
        "    print(f'\\t Val. Loss: {valid_loss:.3f} |  Val. Acc: {valid_acc*100:.2f}%')\n",
        "    print(f'\\t Val. Macro Avg F1 score: {epoch_macro_f1:.2f}')\n",
        "\n",
        "torch.save(model.state_dict(), SAVE_WEIGHTS_WITHOUT_HEAD_PATH)\n",
        "print('Model weights saved')\n",
        "print('Total steps: ', total_steps)\n",
        "\n",
        "state_dict = model.state_dict()\n",
        "\n",
        "del state_dict['output_layer.weight']\n",
        "del state_dict['output_layer.bias']\n",
        "# save the modified state dictionary without the output_layer's weights and bias\n",
        "torch.save(state_dict, SAVE_WEIGHTS_WITHOUT_HEAD_PATH)\n",
        "\n",
        "plt.figure(figsize=(10, 6))\n",
        "plt.plot(range(1, N_EPOCHS+1), train_losses, color='blue', label='Training Loss')\n",
        "plt.plot(range(1, N_EPOCHS+1), valid_losses, color='red', label='Validation Loss')\n",
        "\n",
        "plt.xticks(range(1, N_EPOCHS+1))\n",
        "max_loss = max(max(train_losses), max(valid_losses))\n",
        "max_val = round(max_loss + 0.5, 1)\n",
        "LARGE_TICK_SPACING = True\n",
        "if not LARGE_TICK_SPACING:\n",
        "  yticks = [i for i in np.arange(0, max_val, 0.5)]\n",
        "else:\n",
        "  yticks = [i for i in np.arange(0, max_val, 0.25)]\n",
        "plt.yticks(yticks)\n",
        "\n",
        "for y in yticks:\n",
        "    plt.axhline(y, color='lightgrey', linewidth=0.7)\n",
        "\n",
        "ax = plt.gca()\n",
        "ax.spines['right'].set_color('black')\n",
        "ax.spines['top'].set_visible(False)\n",
        "ax.set_xlabel('Epoch', fontsize=14)\n",
        "ax.set_ylabel('Loss', fontsize=14)\n",
        "ax.tick_params(axis='both', which='major', labelsize=12)\n",
        "\n",
        "ax2 = ax.twinx()\n",
        "ax2.plot(range(1, N_EPOCHS+1), macro_f1_scores, color='green', label='Macro Avg F1', linestyle='--')\n",
        "ax2.set_ylabel('Validation Macro average F1', fontsize=14)\n",
        "ax2.set_ylim(0, 1)  # since F1 score range is [0, 1]\n",
        "ax2.tick_params(axis='y', labelcolor='black')\n",
        "ax2.spines['top'].set_visible(False)\n",
        "\n",
        "lines, labels = ax.get_legend_handles_labels()\n",
        "lines2, labels2 = ax2.get_legend_handles_labels()\n",
        "ax2.legend(lines + lines2, labels + labels2, loc='upper left', fontsize=12)\n",
        "\n",
        "plt.savefig(SAVE_PLOT_IMG_PATH)\n",
        "print('Plot of loss saved')\n",
        "plt.show()"
      ]
    }
  ],
  "metadata": {
    "colab": {
      "provenance": []
    },
    "kernelspec": {
      "display_name": "Python 3",
      "name": "python3"
    },
    "language_info": {
      "name": "python"
    }
  },
  "nbformat": 4,
  "nbformat_minor": 0
}
