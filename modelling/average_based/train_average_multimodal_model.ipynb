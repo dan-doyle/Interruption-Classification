{
  "cells": [
    {
      "cell_type": "code",
      "execution_count": null,
      "metadata": {
        "id": "8aPWXEi-FTGl"
      },
      "outputs": [],
      "source": [
        "# when executed in a Google Colab setting, we must install the required libraries\n",
        "\n",
        "# !pip install torch\n",
        "# !pip install os\n",
        "# !pip install transformers\n",
        "# !pip install numpy\n",
        "# !pip install pandas"
      ]
    },
    {
      "cell_type": "code",
      "execution_count": 17,
      "metadata": {
        "id": "cCoFa99OFjv1"
      },
      "outputs": [],
      "source": [
        "import os\n",
        "import torch\n",
        "from torch import nn\n",
        "import torch.nn.functional as F\n",
        "import torch.optim as optim\n",
        "from torch.utils.data import Dataset, DataLoader\n",
        "from torch.distributions.beta import Beta\n",
        "import numpy as np\n",
        "import pandas as pd\n",
        "import random\n",
        "import pickle\n",
        "import base64\n",
        "import matplotlib.pyplot as plt\n",
        "import re\n",
        "from sklearn.metrics import f1_score"
      ]
    },
    {
      "cell_type": "code",
      "execution_count": 18,
      "metadata": {
        "id": "UmiSqAaYHX47"
      },
      "outputs": [],
      "source": [
        "DATASET_FILEPATH = './drive/MyDrive/Thesis/'\n",
        "DATASET_SEED = 2\n",
        "MODEL_SIZE = 3\n",
        "SEED = 42\n",
        "torch.manual_seed(SEED)\n",
        "LOAD_WEIGHTS_PATH = os.path.join(DATASET_FILEPATH, 'weights-and-graphs/average/model_without_head.pth')\n",
        "SAVE_WEIGHTS_PATH = os.path.join(DATASET_FILEPATH, '/weights-and-graphs/average-bert-frozen/model.pth')\n",
        "\n",
        "EMB_SIZE = 'base' # 'base' 768 embeddings or 'large' 1024 embeddings"
      ]
    },
    {
      "cell_type": "code",
      "execution_count": null,
      "metadata": {
        "id": "E3ZUTLtc8xlk"
      },
      "outputs": [],
      "source": [
        "train_csv_file = os.path.join(DATASET_FILEPATH, f'{EMB_SIZE}/{DATASET_SEED}/processed/train_dataset.csv')\n",
        "validation_csv_file = os.path.join(DATASET_FILEPATH, f'{EMB_SIZE}/{DATASET_SEED}/processed/validation_dataset.csv')"
      ]
    },
    {
      "cell_type": "code",
      "execution_count": 19,
      "metadata": {
        "colab": {
          "base_uri": "https://localhost:8080/"
        },
        "id": "4gv9Y8tRFba9",
        "outputId": "a668b3e0-d62c-425d-8f64-c15ec15f9d47"
      },
      "outputs": [
        {
          "name": "stdout",
          "output_type": "stream",
          "text": [
            "Device:  cpu\n"
          ]
        }
      ],
      "source": [
        "if torch.cuda.is_available():\n",
        "    device = torch.device('cuda')\n",
        "else:\n",
        "    device = torch.device(\"cpu\")\n",
        "print('Device: ', device)"
      ]
    },
    {
      "cell_type": "code",
      "execution_count": 20,
      "metadata": {
        "id": "rlrdyKpSFtim"
      },
      "outputs": [],
      "source": [
        "def to_tensor(base64_str):\n",
        "    return pickle.loads(base64.b64decode(base64_str.encode()))\n",
        "\n",
        "selected_columns = ['audio_file_name', 'classification', 'hubert_embeddings', 'bert_embeddings']\n",
        "\n",
        "train_df = pd.read_csv(train_csv_file, usecols=selected_columns, converters={'hubert_embeddings': to_tensor, 'bert_embeddings': to_tensor})\n",
        "validation_df = pd.read_csv(validation_csv_file, usecols=selected_columns, converters={'hubert_embeddings': to_tensor, 'bert_embeddings': to_tensor})"
      ]
    },
    {
      "cell_type": "code",
      "execution_count": 21,
      "metadata": {
        "id": "gbsKgHA9F6r3"
      },
      "outputs": [],
      "source": [
        "def process_training_set(train_df, oversample_minority=False, undersample_majority=False):\n",
        "  \"\"\"\n",
        "  Re-sample the training dataset, with options to oversample minority class and undersample majority class based on audio lengths.\n",
        "\n",
        "  :param train_df: DataFrame containing the training data with columns ['classification', 'audio_file_name'] among others.\n",
        "  :param oversample_minority: Boolean, if True, the minority class (classification == 0) is duplicated to balance the dataset.\n",
        "  :param undersample_majority: Boolean, if True, majority class data with audio lengths above a threshold (specified by DROP_SEGMENTS) are dropped.\n",
        "  :returns: DataFrame with the desired processed training data.\n",
        "  \"\"\"\n",
        "  if oversample_minority:\n",
        "    class_0 = train_df[train_df['classification'] == 0]\n",
        "    train_df = pd.concat([train_df, class_0])\n",
        "  if undersample_majority:\n",
        "    DROP_SEGMENTS = 5\n",
        "    def get_audio_length_group(file_name):\n",
        "        return int(re.findall(r'\\d+', file_name)[-1])\n",
        "    train_df['audio_length_group'] = train_df['audio_file_name'].apply(get_audio_length_group)\n",
        "    train_df = train_df[train_df['audio_length_group'] <= DROP_SEGMENTS]\n",
        "    train_df = train_df.drop(columns=['audio_length_group'])\n",
        "\n",
        "  # some indices are duplicated / removed so we have to reset them\n",
        "  train_df.reset_index(drop=True, inplace=True)\n",
        "  return train_df\n",
        "\n",
        "def print_dataset_balance(df):\n",
        "    \"\"\"\n",
        "    Prints the balance of classifications in a given dataset.\n",
        "\n",
        "    :param df: DataFrame containing the data with a 'classification' column.\n",
        "    \"\"\"\n",
        "    classification_counts = df['classification'].value_counts().reset_index()\n",
        "    classification_counts.columns = ['classification', 'count']\n",
        "    total_rows = classification_counts['count'].sum()\n",
        "    classification_counts['percentage'] = (classification_counts['count'] / total_rows) * 100\n",
        "    classification_counts['percentage'] = classification_counts['percentage'].round(1)\n",
        "    print(classification_counts)"
      ]
    },
    {
      "cell_type": "code",
      "execution_count": 22,
      "metadata": {
        "colab": {
          "base_uri": "https://localhost:8080/"
        },
        "id": "98LHryzyGLXR",
        "outputId": "75b12f71-9e16-4a44-d625-7e5cb4d27437"
      },
      "outputs": [
        {
          "name": "stdout",
          "output_type": "stream",
          "text": [
            "   classification  count  percentage\n",
            "0               0    606        62.0\n",
            "1               1    372        38.0\n"
          ]
        }
      ],
      "source": [
        "train_df = process_training_set(train_df, oversample_minority=True, undersample_majority=True)\n",
        "print_dataset_balance(train_df)\n",
        "\n",
        "# Apply means across hubert embeddings\n",
        "train_df['hubert_embeddings'] = train_df['hubert_embeddings'].apply(lambda x: torch.mean(x, dim=0))\n",
        "validation_df['hubert_embeddings'] = validation_df['hubert_embeddings'].apply(lambda x: torch.mean(x, dim=0))"
      ]
    },
    {
      "cell_type": "code",
      "execution_count": 23,
      "metadata": {
        "id": "ViRRjTHgHaNn"
      },
      "outputs": [],
      "source": [
        "class EmbeddingsDataset(Dataset):\n",
        "    def __init__(self, bert_embeddings, hubert_embeddings, labels):\n",
        "        self.bert_embeddings = bert_embeddings\n",
        "        self.hubert_embeddings = hubert_embeddings\n",
        "        self.labels = labels\n",
        "\n",
        "    def __len__(self):\n",
        "        return len(self.bert_embeddings)\n",
        "\n",
        "    def __getitem__(self, idx):\n",
        "        bert_embedding = self.bert_embeddings[idx]\n",
        "        hubert_embedding = self.hubert_embeddings[idx]\n",
        "        label = self.labels[idx]\n",
        "        return bert_embedding, hubert_embedding, label\n",
        "\n",
        "bert_train_data, bert_valid_data = validation_df['bert_embeddings'], validation_df['bert_embeddings']\n",
        "hubert_train_data, hubert_valid_data = train_df['hubert_embeddings'], validation_df['hubert_embeddings']\n",
        "train_labels, valid_labels = train_df['classification'], validation_df['classification']\n",
        "\n",
        "train_dataset = EmbeddingsDataset(bert_train_data, hubert_train_data, train_labels)\n",
        "valid_dataset = EmbeddingsDataset(bert_valid_data, hubert_valid_data, valid_labels)\n",
        "\n",
        "def collate_fn(batch):\n",
        "    augmented_batch = []\n",
        "    lambda_dist = Beta(torch.tensor([1.0]), torch.tensor([1.0]))  # Beta distribution parameters\n",
        "\n",
        "    for bert_emb, hubert_emb, label in batch:\n",
        "        bert_emb_rand, hubert_emb_rand, label_rand = random.choice(batch)\n",
        "        lambda_sample = lambda_dist.sample().item()\n",
        "\n",
        "        bert_emb_aug = lambda_sample * bert_emb + (1 - lambda_sample) * bert_emb_rand\n",
        "        hubert_emb_aug = lambda_sample * hubert_emb + (1 - lambda_sample) * hubert_emb_rand\n",
        "        label_aug = lambda_sample * label + (1 - lambda_sample) * label_rand\n",
        "        augmented_batch.append((bert_emb_aug, hubert_emb_aug, label_aug))\n",
        "\n",
        "    batch.extend(augmented_batch)\n",
        "\n",
        "    bert_embeddings, hubert_embeddings, labels = zip(*batch)\n",
        "    bert_embeddings = torch.stack(bert_embeddings)\n",
        "    hubert_embeddings = torch.stack(hubert_embeddings)\n",
        "    labels = torch.Tensor(labels)\n",
        "\n",
        "    return bert_embeddings, hubert_embeddings, labels"
      ]
    },
    {
      "cell_type": "code",
      "execution_count": 24,
      "metadata": {
        "id": "_e3DUwfZHs6g"
      },
      "outputs": [],
      "source": [
        "BATCH_SIZE = 16\n",
        "\n",
        "train_loader = DataLoader(train_dataset, batch_size=BATCH_SIZE, shuffle=True)\n",
        "valid_loader = DataLoader(valid_dataset, batch_size=BATCH_SIZE)"
      ]
    },
    {
      "cell_type": "code",
      "execution_count": 25,
      "metadata": {
        "id": "0R0A9ujx3o_8"
      },
      "outputs": [],
      "source": [
        "if MODEL_SIZE == 1:\n",
        "  hidden_layers = [256]\n",
        "  dropout_rate = 0.1\n",
        "elif MODEL_SIZE == 2:\n",
        "  hidden_layers = [512,256]\n",
        "  dropout_rate = 0.2\n",
        "elif MODEL_SIZE == 3:\n",
        "  hidden_layers = [768, 512, 256]\n",
        "  dropout_rate = 0.3\n",
        "elif MODEL_SIZE == 4:\n",
        "  hidden_layers = [1024, 768, 512, 256]\n",
        "  dropout_rate = 0.4"
      ]
    },
    {
      "cell_type": "code",
      "execution_count": 26,
      "metadata": {
        "id": "5jbe3KA25p_p"
      },
      "outputs": [],
      "source": [
        "class AudioModel(nn.Module):\n",
        "    def __init__(self, audio_embedding_dim=768, hidden_layers=[], dropout_rate=0.5):\n",
        "        super(AudioModel, self).__init__()\n",
        "\n",
        "        layers = []\n",
        "        prev_dim = audio_embedding_dim\n",
        "        for dim in hidden_layers:\n",
        "            layers.extend([\n",
        "                nn.Linear(prev_dim, dim),\n",
        "                nn.ReLU(),\n",
        "                nn.Dropout(dropout_rate)\n",
        "            ])\n",
        "            prev_dim = dim\n",
        "\n",
        "        self.model = nn.Sequential(*layers)\n",
        "\n",
        "    def forward(self, audio_embedding):\n",
        "        return self.model(audio_embedding)"
      ]
    },
    {
      "cell_type": "code",
      "execution_count": 27,
      "metadata": {
        "id": "xuULbfxtH1sh"
      },
      "outputs": [],
      "source": [
        "class CustomModel(nn.Module):\n",
        "  def __init__(self, bert_embedding_dim=768, hubert_embedding_dim=768 if EMB_SIZE == 'base' else 1024, hidden_dim1=256, hidden_dim2=256, bert_hidden_dim=16, output_dim=1, dropout_rate=0.4):\n",
        "      super(CustomModel, self).__init__()\n",
        "      self.bert_layer1 = nn.Linear(bert_embedding_dim, bert_hidden_dim)\n",
        "      self.dropout1 = nn.Dropout(dropout_rate)\n",
        "      self.bert_layer2 = nn.Linear(bert_hidden_dim, bert_hidden_dim)\n",
        "      self.dropout2 = nn.Dropout(dropout_rate)\n",
        "\n",
        "      self.audio_model = AudioModel(audio_embedding_dim=hubert_embedding_dim, hidden_layers=hidden_layers, dropout_rate=0)\n",
        "\n",
        "\n",
        "      self.fc1 = nn.Linear(hidden_layers[-1] + bert_hidden_dim, hidden_dim1)\n",
        "      self.dropout5 = nn.Dropout(dropout_rate)\n",
        "      self.fc2 = nn.Linear(hidden_dim1, hidden_dim2)\n",
        "      self.dropout6 = nn.Dropout(dropout_rate)\n",
        "      self.output_layer = nn.Linear(hidden_dim2, output_dim)\n",
        "\n",
        "  def forward(self, bert_embedding, hubert_embedding):\n",
        "      bert_out = F.relu(self.bert_layer1(bert_embedding))\n",
        "      bert_out = self.dropout1(bert_out)\n",
        "      bert_out = F.relu(self.bert_layer2(bert_out))\n",
        "      bert_out = self.dropout2(bert_out)\n",
        "\n",
        "      # Use the audio_model to process hubert_embedding\n",
        "      hubert_out = self.audio_model(hubert_embedding)\n",
        "\n",
        "      concatenated = torch.cat((bert_out, hubert_out), dim=1)\n",
        "\n",
        "      fc_out = F.relu(self.fc1(concatenated))\n",
        "      fc_out = self.dropout5(fc_out)\n",
        "      fc_out = F.relu(self.fc2(fc_out))\n",
        "      fc_out = self.dropout6(fc_out)\n",
        "\n",
        "      output = self.output_layer(fc_out)\n",
        "      return output"
      ]
    },
    {
      "cell_type": "code",
      "execution_count": 28,
      "metadata": {
        "id": "9AEPuVPmH6mz"
      },
      "outputs": [],
      "source": [
        "model = CustomModel()\n",
        "\n",
        "audio_model_weights = torch.load(LOAD_WEIGHTS_PATH)\n",
        "model.audio_model.load_state_dict(audio_model_weights)\n",
        "\n",
        "# Freeze the weights for the audio model\n",
        "for param in model.audio_model.parameters():\n",
        "    param.requires_grad = False\n",
        "\n",
        "optimizer = optim.Adam(model.parameters())\n",
        "criterion = nn.BCEWithLogitsLoss()"
      ]
    },
    {
      "cell_type": "code",
      "execution_count": 29,
      "metadata": {
        "id": "qg4NQLTvH85U"
      },
      "outputs": [],
      "source": [
        "def binary_accuracy(preds, y):\n",
        "    \"\"\"\n",
        "    Returns accuracy per batch, i.e. if you get 8/10 right, this returns 0.8, NOT 8\n",
        "    \"\"\"\n",
        "\n",
        "    #round predictions to the closest integer\n",
        "    rounded_preds = torch.round(torch.sigmoid(preds))\n",
        "    correct = (rounded_preds == y).float()  #convert into float for division\n",
        "    acc = correct.sum() / len(correct)\n",
        "    return acc\n",
        "\n",
        "def evaluate(model, iterator, criterion):\n",
        "    epoch_loss = 0\n",
        "    epoch_acc = 0\n",
        "    model.eval()\n",
        "    all_predictions = []\n",
        "    all_labels = []\n",
        "\n",
        "    with torch.no_grad():\n",
        "        for bert_embeddings, hubert_embeddings, labels in iterator:\n",
        "            predictions = model(bert_embeddings, hubert_embeddings).squeeze(1)\n",
        "            loss = criterion(predictions, labels.float())\n",
        "            acc = binary_accuracy(predictions, labels)\n",
        "            binary_predictions = (torch.sigmoid(predictions) > 0.5).int() # new\n",
        "\n",
        "            all_predictions.extend(binary_predictions.cpu().numpy()) # new\n",
        "            all_labels.extend(labels.cpu().numpy()) # new\n",
        "\n",
        "            epoch_loss += loss.item()\n",
        "            epoch_acc += acc.item()\n",
        "        macro_f1 = f1_score(all_labels, all_predictions, average='macro') # new\n",
        "\n",
        "    return epoch_loss / len(iterator), epoch_acc / len(iterator), macro_f1 # new part: macro_f1\n",
        "\n",
        "def train(model, iterator, optimizer, criterion):\n",
        "    epoch_loss = 0\n",
        "    epoch_acc = 0\n",
        "    model.train()\n",
        "\n",
        "    for bert_embeddings, hubert_embeddings, labels in iterator:\n",
        "        optimizer.zero_grad()\n",
        "        predictions = model(bert_embeddings, hubert_embeddings).squeeze(1)\n",
        "        loss = criterion(predictions, labels.float())\n",
        "        acc = binary_accuracy(predictions, labels)\n",
        "        loss.backward()\n",
        "        optimizer.step()\n",
        "        epoch_loss += loss.item()\n",
        "        epoch_acc += acc.item()\n",
        "\n",
        "    return epoch_loss / len(iterator), epoch_acc / len(iterator)"
      ]
    },
    {
      "cell_type": "code",
      "execution_count": 30,
      "metadata": {
        "colab": {
          "base_uri": "https://localhost:8080/",
          "height": 993
        },
        "id": "jFt9bm7nIAVn",
        "outputId": "e60a1670-ed04-4a7e-f569-9131e977f301"
      },
      "outputs": [
        {
          "name": "stdout",
          "output_type": "stream",
          "text": [
            "Epoch: 01\n",
            "\tTrain Loss: 0.283 | Train Acc: 89.24%\n",
            "\t Val. Loss: 0.753 |  Val. Acc: 79.86%\n",
            "Epoch: 02\n",
            "\tTrain Loss: 0.107 | Train Acc: 95.83%\n",
            "\t Val. Loss: 0.975 |  Val. Acc: 83.33%\n",
            "Epoch: 03\n",
            "\tTrain Loss: 0.089 | Train Acc: 96.18%\n",
            "\t Val. Loss: 1.369 |  Val. Acc: 82.64%\n",
            "Epoch: 04\n",
            "\tTrain Loss: 0.083 | Train Acc: 96.53%\n",
            "\t Val. Loss: 1.362 |  Val. Acc: 82.99%\n",
            "Epoch: 05\n",
            "\tTrain Loss: 0.085 | Train Acc: 97.57%\n",
            "\t Val. Loss: 1.442 |  Val. Acc: 83.33%\n",
            "Epoch: 06\n",
            "\tTrain Loss: 0.073 | Train Acc: 97.22%\n",
            "\t Val. Loss: 1.656 |  Val. Acc: 82.99%\n",
            "Epoch: 07\n",
            "\tTrain Loss: 0.083 | Train Acc: 95.83%\n",
            "\t Val. Loss: 1.660 |  Val. Acc: 82.99%\n",
            "Epoch: 08\n",
            "\tTrain Loss: 0.071 | Train Acc: 97.22%\n",
            "\t Val. Loss: 1.806 |  Val. Acc: 82.64%\n",
            "Epoch: 09\n",
            "\tTrain Loss: 0.085 | Train Acc: 96.88%\n",
            "\t Val. Loss: 1.842 |  Val. Acc: 82.99%\n",
            "Epoch: 10\n",
            "\tTrain Loss: 0.083 | Train Acc: 96.88%\n",
            "\t Val. Loss: 2.047 |  Val. Acc: 82.29%\n",
            "Model weights saved\n"
          ]
        },
        {
          "data": {
            "text/plain": [
              "<matplotlib.legend.Legend at 0x7dc63dd5c700>"
            ]
          },
          "execution_count": 30,
          "metadata": {},
          "output_type": "execute_result"
        },
        {
          "data": {
            "image/png": "[encoded data removed]",
            "text/plain": [
              "<Figure size 1000x600 with 2 Axes>"
            ]
          },
          "metadata": {},
          "output_type": "display_data"
        }
      ],
      "source": [
        "N_EPOCHS = 10\n",
        "\n",
        "train_losses = []\n",
        "valid_losses = []\n",
        "macro_f1_scores = [] # new\n",
        "for epoch in range(N_EPOCHS):\n",
        "    train_loss, train_acc = train(model, train_loader, optimizer, criterion)\n",
        "    valid_loss, valid_acc, epoch_macro_f1 = evaluate(model, valid_loader, criterion)\n",
        "\n",
        "    train_losses.append(train_loss)\n",
        "    valid_losses.append(valid_loss)\n",
        "    macro_f1_scores.append(epoch_macro_f1) # new\n",
        "\n",
        "    print(f'Epoch: {epoch+1:02}')\n",
        "    print(f'\\tTrain Loss: {train_loss:.3f} | Train Acc: {train_acc*100:.2f}%')\n",
        "    print(f'\\t Val. Loss: {valid_loss:.3f} |  Val. Acc: {valid_acc*100:.2f}%')\n",
        "\n",
        "torch.save(model.state_dict(), SAVE_WEIGHTS_PATH)\n",
        "print('Model weights saved')\n",
        "\n",
        "plt.figure(figsize=(10, 6))\n",
        "plt.plot(range(1, N_EPOCHS+1), train_losses, color='blue', label='Training Loss')\n",
        "plt.plot(range(1, N_EPOCHS+1), valid_losses, color='red', label='Validation Loss')\n",
        "\n",
        "plt.xticks(range(1, N_EPOCHS+1))\n",
        "max_loss = max(max(train_losses), max(valid_losses))\n",
        "max_val = round(max_loss + 0.5, 1)\n",
        "LARGE_TICK_SPACING = True\n",
        "if not LARGE_TICK_SPACING:\n",
        "  yticks = [i for i in np.arange(0, max_val, 0.5)]\n",
        "else:\n",
        "  yticks = [i for i in np.arange(0, max_val, 0.25)]\n",
        "plt.yticks(yticks)\n",
        "\n",
        "for y in yticks:\n",
        "    plt.axhline(y, color='lightgrey', linewidth=0.7)\n",
        "\n",
        "ax = plt.gca()\n",
        "ax.spines['right'].set_color('black')  # Set the color of the right spine to green\n",
        "ax.spines['top'].set_visible(False)\n",
        "ax.set_xlabel('Epoch', fontsize=14)\n",
        "ax.set_ylabel('Loss', fontsize=14)\n",
        "ax.tick_params(axis='both', which='major', labelsize=12)\n",
        "\n",
        "# New: to make second vertical axis visible\n",
        "ax2 = ax.twinx()\n",
        "ax2.plot(range(1, N_EPOCHS+1), macro_f1_scores, color='green', label='Macro Avg F1', linestyle='--')\n",
        "ax2.set_ylabel('Validation Macro average F1', fontsize=14)\n",
        "ax2.set_ylim(0, 1)  # since F1 score range is [0, 1]\n",
        "ax2.tick_params(axis='y', labelcolor='black')\n",
        "ax2.spines['top'].set_visible(False)\n",
        "\n",
        "# Create a combined legend for the plots\n",
        "lines, labels = ax.get_legend_handles_labels()\n",
        "lines2, labels2 = ax2.get_legend_handles_labels()\n",
        "ax2.legend(lines + lines2, labels + labels2, loc='upper left', fontsize=12)\n"
      ]
    }
  ],
  "metadata": {
    "colab": {
      "provenance": []
    },
    "kernelspec": {
      "display_name": "Python 3",
      "name": "python3"
    },
    "language_info": {
      "name": "python"
    }
  },
  "nbformat": 4,
  "nbformat_minor": 0
}
